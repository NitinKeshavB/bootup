{
 "cells": [
  {
   "cell_type": "code",
   "execution_count": 1,
   "metadata": {},
   "outputs": [],
   "source": [
    "import requests\n",
    "import pandas as pd \n",
    "from secrets_config import api_key # https://home.openweathermap.org/ "
   ]
  },
  {
   "cell_type": "code",
   "execution_count": 2,
   "metadata": {},
   "outputs": [
    {
     "name": "stdout",
     "output_type": "stream",
     "text": [
      "200\n"
     ]
    }
   ],
   "source": [
    "# open weather api usage docs: https://openweathermap.org/current \n",
    "params = {\n",
    "    \"q\": \"perth\",\n",
    "    \"units\": \"metric\",\n",
    "    \"appid\": api_key\n",
    "} \n",
    "response = requests.get(f\"http://api.openweathermap.org/data/2.5/weather\", params=params)\n",
    "print(response.status_code)\n",
    "response_data = response.json()"
   ]
  },
  {
   "cell_type": "code",
   "execution_count": 3,
   "metadata": {},
   "outputs": [
    {
     "name": "stdout",
     "output_type": "stream",
     "text": [
      "{'coord': {'lon': 115.8333, 'lat': -31.9333}, 'weather': [{'id': 800, 'main': 'Clear', 'description': 'clear sky', 'icon': '01n'}], 'base': 'stations', 'main': {'temp': 18.95, 'feels_like': 18.02, 'temp_min': 17.23, 'temp_max': 20.61, 'pressure': 1016, 'humidity': 43}, 'visibility': 10000, 'wind': {'speed': 3.09, 'deg': 360}, 'clouds': {'all': 0}, 'dt': 1657274924, 'sys': {'type': 2, 'id': 63154, 'country': 'AU', 'sunrise': 1657235819, 'sunset': 1657272357}, 'timezone': 28800, 'id': 2063523, 'name': 'Perth', 'cod': 200}\n"
     ]
    }
   ],
   "source": [
    "# check the response \n",
    "print(response_data)"
   ]
  },
  {
   "cell_type": "code",
   "execution_count": 4,
   "metadata": {},
   "outputs": [
    {
     "data": {
      "text/html": [
       "<div>\n",
       "<style scoped>\n",
       "    .dataframe tbody tr th:only-of-type {\n",
       "        vertical-align: middle;\n",
       "    }\n",
       "\n",
       "    .dataframe tbody tr th {\n",
       "        vertical-align: top;\n",
       "    }\n",
       "\n",
       "    .dataframe thead th {\n",
       "        text-align: right;\n",
       "    }\n",
       "</style>\n",
       "<table border=\"1\" class=\"dataframe\">\n",
       "  <thead>\n",
       "    <tr style=\"text-align: right;\">\n",
       "      <th></th>\n",
       "      <th>weather</th>\n",
       "      <th>base</th>\n",
       "      <th>visibility</th>\n",
       "      <th>dt</th>\n",
       "      <th>timezone</th>\n",
       "      <th>id</th>\n",
       "      <th>name</th>\n",
       "      <th>cod</th>\n",
       "      <th>coord.lon</th>\n",
       "      <th>coord.lat</th>\n",
       "      <th>...</th>\n",
       "      <th>main.pressure</th>\n",
       "      <th>main.humidity</th>\n",
       "      <th>wind.speed</th>\n",
       "      <th>wind.deg</th>\n",
       "      <th>clouds.all</th>\n",
       "      <th>sys.type</th>\n",
       "      <th>sys.id</th>\n",
       "      <th>sys.country</th>\n",
       "      <th>sys.sunrise</th>\n",
       "      <th>sys.sunset</th>\n",
       "    </tr>\n",
       "  </thead>\n",
       "  <tbody>\n",
       "    <tr>\n",
       "      <th>0</th>\n",
       "      <td>[{'id': 800, 'main': 'Clear', 'description': '...</td>\n",
       "      <td>stations</td>\n",
       "      <td>10000</td>\n",
       "      <td>1657274924</td>\n",
       "      <td>28800</td>\n",
       "      <td>2063523</td>\n",
       "      <td>Perth</td>\n",
       "      <td>200</td>\n",
       "      <td>115.8333</td>\n",
       "      <td>-31.9333</td>\n",
       "      <td>...</td>\n",
       "      <td>1016</td>\n",
       "      <td>43</td>\n",
       "      <td>3.09</td>\n",
       "      <td>360</td>\n",
       "      <td>0</td>\n",
       "      <td>2</td>\n",
       "      <td>63154</td>\n",
       "      <td>AU</td>\n",
       "      <td>1657235819</td>\n",
       "      <td>1657272357</td>\n",
       "    </tr>\n",
       "  </tbody>\n",
       "</table>\n",
       "<p>1 rows × 24 columns</p>\n",
       "</div>"
      ],
      "text/plain": [
       "                                             weather      base  visibility  \\\n",
       "0  [{'id': 800, 'main': 'Clear', 'description': '...  stations       10000   \n",
       "\n",
       "           dt  timezone       id   name  cod  coord.lon  coord.lat  ...  \\\n",
       "0  1657274924     28800  2063523  Perth  200   115.8333   -31.9333  ...   \n",
       "\n",
       "   main.pressure  main.humidity  wind.speed  wind.deg  clouds.all  sys.type  \\\n",
       "0           1016             43        3.09       360           0         2   \n",
       "\n",
       "   sys.id  sys.country  sys.sunrise  sys.sunset  \n",
       "0   63154           AU   1657235819  1657272357  \n",
       "\n",
       "[1 rows x 24 columns]"
      ]
     },
     "execution_count": 4,
     "metadata": {},
     "output_type": "execute_result"
    }
   ],
   "source": [
    "# showing the data \n",
    "\n",
    "df_weather = pd.json_normalize(data=response_data)\n",
    "df_weather"
   ]
  },
  {
   "cell_type": "code",
   "execution_count": 5,
   "metadata": {},
   "outputs": [
    {
     "data": {
      "text/plain": [
       "Index(['weather', 'base', 'visibility', 'dt', 'timezone', 'id', 'name', 'cod',\n",
       "       'coord.lon', 'coord.lat', 'main.temp', 'main.feels_like',\n",
       "       'main.temp_min', 'main.temp_max', 'main.pressure', 'main.humidity',\n",
       "       'wind.speed', 'wind.deg', 'clouds.all', 'sys.type', 'sys.id',\n",
       "       'sys.country', 'sys.sunrise', 'sys.sunset'],\n",
       "      dtype='object')"
      ]
     },
     "execution_count": 5,
     "metadata": {},
     "output_type": "execute_result"
    }
   ],
   "source": [
    "# listing all columns \n",
    "df_weather.columns"
   ]
  },
  {
   "cell_type": "code",
   "execution_count": 13,
   "metadata": {},
   "outputs": [
    {
     "data": {
      "text/html": [
       "<div>\n",
       "<style scoped>\n",
       "    .dataframe tbody tr th:only-of-type {\n",
       "        vertical-align: middle;\n",
       "    }\n",
       "\n",
       "    .dataframe tbody tr th {\n",
       "        vertical-align: top;\n",
       "    }\n",
       "\n",
       "    .dataframe thead th {\n",
       "        text-align: right;\n",
       "    }\n",
       "</style>\n",
       "<table border=\"1\" class=\"dataframe\">\n",
       "  <thead>\n",
       "    <tr style=\"text-align: right;\">\n",
       "      <th></th>\n",
       "      <th>dt</th>\n",
       "      <th>id</th>\n",
       "      <th>name</th>\n",
       "      <th>main.temp</th>\n",
       "    </tr>\n",
       "  </thead>\n",
       "  <tbody>\n",
       "    <tr>\n",
       "      <th>0</th>\n",
       "      <td>1657274318</td>\n",
       "      <td>2063523</td>\n",
       "      <td>Perth</td>\n",
       "      <td>19.22</td>\n",
       "    </tr>\n",
       "  </tbody>\n",
       "</table>\n",
       "</div>"
      ],
      "text/plain": [
       "           dt       id   name  main.temp\n",
       "0  1657274318  2063523  Perth      19.22"
      ]
     },
     "execution_count": 13,
     "metadata": {},
     "output_type": "execute_result"
    }
   ],
   "source": [
    "# selecting only necessary columns \n",
    "\n",
    "df_weather_selected = df_weather[[\"dt\", \"id\", \"name\", \"main.temp\"]]\n",
    "df_weather_selected"
   ]
  },
  {
   "cell_type": "code",
   "execution_count": null,
   "metadata": {},
   "outputs": [],
   "source": [
    "# how to extract data from multiple cities? e.g. canberra, sydney, etc\n",
    "\n",
    "# 1. create a list of cities (csv)\n",
    "# 2. read list of cities (csv) \n",
    "# 3. request data for each city (json) and push to a list \n",
    "# 4. convert list into dataframe "
   ]
  },
  {
   "cell_type": "code",
   "execution_count": 6,
   "metadata": {},
   "outputs": [
    {
     "data": {
      "text/html": [
       "<div>\n",
       "<style scoped>\n",
       "    .dataframe tbody tr th:only-of-type {\n",
       "        vertical-align: middle;\n",
       "    }\n",
       "\n",
       "    .dataframe tbody tr th {\n",
       "        vertical-align: top;\n",
       "    }\n",
       "\n",
       "    .dataframe thead th {\n",
       "        text-align: right;\n",
       "    }\n",
       "</style>\n",
       "<table border=\"1\" class=\"dataframe\">\n",
       "  <thead>\n",
       "    <tr style=\"text-align: right;\">\n",
       "      <th></th>\n",
       "      <th>city_name</th>\n",
       "    </tr>\n",
       "  </thead>\n",
       "  <tbody>\n",
       "    <tr>\n",
       "      <th>0</th>\n",
       "      <td>canberra</td>\n",
       "    </tr>\n",
       "    <tr>\n",
       "      <th>1</th>\n",
       "      <td>sydney</td>\n",
       "    </tr>\n",
       "    <tr>\n",
       "      <th>2</th>\n",
       "      <td>darwin</td>\n",
       "    </tr>\n",
       "    <tr>\n",
       "      <th>3</th>\n",
       "      <td>brisbane</td>\n",
       "    </tr>\n",
       "    <tr>\n",
       "      <th>4</th>\n",
       "      <td>adelaide</td>\n",
       "    </tr>\n",
       "  </tbody>\n",
       "</table>\n",
       "</div>"
      ],
      "text/plain": [
       "  city_name\n",
       "0  canberra\n",
       "1    sydney\n",
       "2    darwin\n",
       "3  brisbane\n",
       "4  adelaide"
      ]
     },
     "execution_count": 6,
     "metadata": {},
     "output_type": "execute_result"
    }
   ],
   "source": [
    "# read list of cities\n",
    "df_cities = pd.read_csv(\"data/australian_capital_cities.csv\")\n",
    "df_cities.head()"
   ]
  },
  {
   "cell_type": "code",
   "execution_count": 7,
   "metadata": {},
   "outputs": [],
   "source": [
    "# request data for each city (json) and push to a list \n",
    "weather_data = []\n",
    "for city_name in df_cities[\"city_name\"]:\n",
    "    params = {\n",
    "        \"q\": city_name,\n",
    "        \"units\": \"metric\",\n",
    "        \"appid\": api_key\n",
    "    }\n",
    "    response = requests.get(f\"http://api.openweathermap.org/data/2.5/weather\", params=params)\n",
    "    if response.status_code == 200: \n",
    "        weather_data.append(response.json())\n",
    "    else: \n",
    "        raise Exception(\"Extracting weather api data failed. Please check if API limits have been reached.\")"
   ]
  },
  {
   "cell_type": "code",
   "execution_count": 9,
   "metadata": {},
   "outputs": [
    {
     "name": "stdout",
     "output_type": "stream",
     "text": [
      "[{'coord': {'lon': 149.1281, 'lat': -35.2835}, 'weather': [{'id': 803, 'main': 'Clouds', 'description': 'broken clouds', 'icon': '04n'}], 'base': 'stations', 'main': {'temp': 5.91, 'feels_like': 1.79, 'temp_min': 4.69, 'temp_max': 6.88, 'pressure': 1015, 'humidity': 83}, 'visibility': 10000, 'wind': {'speed': 6.69, 'deg': 330}, 'clouds': {'all': 75}, 'dt': 1657275567, 'sys': {'type': 2, 'id': 2004200, 'country': 'AU', 'sunrise': 1657228317, 'sunset': 1657263876}, 'timezone': 36000, 'id': 2172517, 'name': 'Canberra', 'cod': 200}, {'coord': {'lon': 151.2073, 'lat': -33.8679}, 'weather': [{'id': 800, 'main': 'Clear', 'description': 'clear sky', 'icon': '01n'}], 'base': 'stations', 'main': {'temp': 10.3, 'feels_like': 8.95, 'temp_min': 7.55, 'temp_max': 11.61, 'pressure': 1013, 'humidity': 60}, 'visibility': 10000, 'wind': {'speed': 8.23, 'deg': 270, 'gust': 13.38}, 'clouds': {'all': 0}, 'dt': 1657275421, 'sys': {'type': 2, 'id': 2002865, 'country': 'AU', 'sunrise': 1657227607, 'sunset': 1657263588}, 'timezone': 36000, 'id': 2147714, 'name': 'Sydney', 'cod': 200}, {'coord': {'lon': 130.8418, 'lat': -12.4611}, 'weather': [{'id': 800, 'main': 'Clear', 'description': 'clear sky', 'icon': '01n'}], 'base': 'stations', 'main': {'temp': 21.68, 'feels_like': 21.65, 'temp_min': 20.5, 'temp_max': 22.72, 'pressure': 1012, 'humidity': 67}, 'visibility': 10000, 'wind': {'speed': 1.79, 'deg': 20}, 'clouds': {'all': 0}, 'dt': 1657275641, 'sys': {'type': 1, 'id': 9574, 'country': 'AU', 'sunrise': 1657229925, 'sunset': 1657271045}, 'timezone': 34200, 'id': 2073124, 'name': 'Darwin', 'cod': 200}, {'coord': {'lon': 153.0281, 'lat': -27.4679}, 'weather': [{'id': 800, 'main': 'Clear', 'description': 'clear sky', 'icon': '01n'}], 'base': 'stations', 'main': {'temp': 12.65, 'feels_like': 11.62, 'temp_min': 10.27, 'temp_max': 13.8, 'pressure': 1015, 'humidity': 63}, 'visibility': 10000, 'wind': {'speed': 5.14, 'deg': 280}, 'clouds': {'all': 0}, 'dt': 1657275301, 'sys': {'type': 2, 'id': 2005393, 'country': 'AU', 'sunrise': 1657226300, 'sunset': 1657264020}, 'timezone': 36000, 'id': 2174003, 'name': 'Brisbane', 'cod': 200}, {'coord': {'lon': 138.6, 'lat': -34.9333}, 'weather': [{'id': 802, 'main': 'Clouds', 'description': 'scattered clouds', 'icon': '03n'}], 'base': 'stations', 'main': {'temp': 11.78, 'feels_like': 10.82, 'temp_min': 10.51, 'temp_max': 12.71, 'pressure': 1024, 'humidity': 69}, 'visibility': 10000, 'wind': {'speed': 4.63, 'deg': 210}, 'clouds': {'all': 40}, 'dt': 1657275308, 'sys': {'type': 2, 'id': 2001763, 'country': 'AU', 'sunrise': 1657230790, 'sunset': 1657266456}, 'timezone': 34200, 'id': 2078025, 'name': 'Adelaide', 'cod': 200}, {'coord': {'lon': 147.3294, 'lat': -42.8794}, 'weather': [{'id': 803, 'main': 'Clouds', 'description': 'broken clouds', 'icon': '04n'}], 'base': 'stations', 'main': {'temp': 8.59, 'feels_like': 5.57, 'temp_min': 7.37, 'temp_max': 9.03, 'pressure': 1009, 'humidity': 94}, 'visibility': 10000, 'wind': {'speed': 5.66, 'deg': 220}, 'clouds': {'all': 75}, 'dt': 1657275400, 'sys': {'type': 2, 'id': 2002195, 'country': 'AU', 'sunrise': 1657230047, 'sunset': 1657263009}, 'timezone': 36000, 'id': 2163355, 'name': 'Hobart', 'cod': 200}, {'coord': {'lon': -80.6081, 'lat': 28.0836}, 'weather': [{'id': 800, 'main': 'Clear', 'description': 'clear sky', 'icon': '01n'}], 'base': 'stations', 'main': {'temp': 24.54, 'feels_like': 25.43, 'temp_min': 22.23, 'temp_max': 27.2, 'pressure': 1018, 'humidity': 91}, 'visibility': 10000, 'wind': {'speed': 1.54, 'deg': 220}, 'clouds': {'all': 0}, 'dt': 1657275160, 'sys': {'type': 2, 'id': 2007578, 'country': 'US', 'sunrise': 1657276330, 'sunset': 1657326147}, 'timezone': -14400, 'id': 4163971, 'name': 'Melbourne', 'cod': 200}, {'coord': {'lon': 115.8333, 'lat': -31.9333}, 'weather': [{'id': 800, 'main': 'Clear', 'description': 'clear sky', 'icon': '01n'}], 'base': 'stations', 'main': {'temp': 18.95, 'feels_like': 18.02, 'temp_min': 17.23, 'temp_max': 20.61, 'pressure': 1016, 'humidity': 43}, 'visibility': 10000, 'wind': {'speed': 3.09, 'deg': 360}, 'clouds': {'all': 0}, 'dt': 1657274924, 'sys': {'type': 2, 'id': 63154, 'country': 'AU', 'sunrise': 1657235819, 'sunset': 1657272357}, 'timezone': 28800, 'id': 2063523, 'name': 'Perth', 'cod': 200}]\n"
     ]
    }
   ],
   "source": [
    "# show requested data \n",
    "print(weather_data)"
   ]
  },
  {
   "cell_type": "code",
   "execution_count": 11,
   "metadata": {},
   "outputs": [
    {
     "data": {
      "text/html": [
       "<div>\n",
       "<style scoped>\n",
       "    .dataframe tbody tr th:only-of-type {\n",
       "        vertical-align: middle;\n",
       "    }\n",
       "\n",
       "    .dataframe tbody tr th {\n",
       "        vertical-align: top;\n",
       "    }\n",
       "\n",
       "    .dataframe thead th {\n",
       "        text-align: right;\n",
       "    }\n",
       "</style>\n",
       "<table border=\"1\" class=\"dataframe\">\n",
       "  <thead>\n",
       "    <tr style=\"text-align: right;\">\n",
       "      <th></th>\n",
       "      <th>weather</th>\n",
       "      <th>base</th>\n",
       "      <th>visibility</th>\n",
       "      <th>dt</th>\n",
       "      <th>timezone</th>\n",
       "      <th>id</th>\n",
       "      <th>name</th>\n",
       "      <th>cod</th>\n",
       "      <th>coord.lon</th>\n",
       "      <th>coord.lat</th>\n",
       "      <th>...</th>\n",
       "      <th>main.humidity</th>\n",
       "      <th>wind.speed</th>\n",
       "      <th>wind.deg</th>\n",
       "      <th>clouds.all</th>\n",
       "      <th>sys.type</th>\n",
       "      <th>sys.id</th>\n",
       "      <th>sys.country</th>\n",
       "      <th>sys.sunrise</th>\n",
       "      <th>sys.sunset</th>\n",
       "      <th>wind.gust</th>\n",
       "    </tr>\n",
       "  </thead>\n",
       "  <tbody>\n",
       "    <tr>\n",
       "      <th>0</th>\n",
       "      <td>[{'id': 803, 'main': 'Clouds', 'description': ...</td>\n",
       "      <td>stations</td>\n",
       "      <td>10000</td>\n",
       "      <td>1657275567</td>\n",
       "      <td>36000</td>\n",
       "      <td>2172517</td>\n",
       "      <td>Canberra</td>\n",
       "      <td>200</td>\n",
       "      <td>149.1281</td>\n",
       "      <td>-35.2835</td>\n",
       "      <td>...</td>\n",
       "      <td>83</td>\n",
       "      <td>6.69</td>\n",
       "      <td>330</td>\n",
       "      <td>75</td>\n",
       "      <td>2</td>\n",
       "      <td>2004200</td>\n",
       "      <td>AU</td>\n",
       "      <td>1657228317</td>\n",
       "      <td>1657263876</td>\n",
       "      <td>NaN</td>\n",
       "    </tr>\n",
       "    <tr>\n",
       "      <th>1</th>\n",
       "      <td>[{'id': 800, 'main': 'Clear', 'description': '...</td>\n",
       "      <td>stations</td>\n",
       "      <td>10000</td>\n",
       "      <td>1657275421</td>\n",
       "      <td>36000</td>\n",
       "      <td>2147714</td>\n",
       "      <td>Sydney</td>\n",
       "      <td>200</td>\n",
       "      <td>151.2073</td>\n",
       "      <td>-33.8679</td>\n",
       "      <td>...</td>\n",
       "      <td>60</td>\n",
       "      <td>8.23</td>\n",
       "      <td>270</td>\n",
       "      <td>0</td>\n",
       "      <td>2</td>\n",
       "      <td>2002865</td>\n",
       "      <td>AU</td>\n",
       "      <td>1657227607</td>\n",
       "      <td>1657263588</td>\n",
       "      <td>13.38</td>\n",
       "    </tr>\n",
       "    <tr>\n",
       "      <th>2</th>\n",
       "      <td>[{'id': 800, 'main': 'Clear', 'description': '...</td>\n",
       "      <td>stations</td>\n",
       "      <td>10000</td>\n",
       "      <td>1657275641</td>\n",
       "      <td>34200</td>\n",
       "      <td>2073124</td>\n",
       "      <td>Darwin</td>\n",
       "      <td>200</td>\n",
       "      <td>130.8418</td>\n",
       "      <td>-12.4611</td>\n",
       "      <td>...</td>\n",
       "      <td>67</td>\n",
       "      <td>1.79</td>\n",
       "      <td>20</td>\n",
       "      <td>0</td>\n",
       "      <td>1</td>\n",
       "      <td>9574</td>\n",
       "      <td>AU</td>\n",
       "      <td>1657229925</td>\n",
       "      <td>1657271045</td>\n",
       "      <td>NaN</td>\n",
       "    </tr>\n",
       "    <tr>\n",
       "      <th>3</th>\n",
       "      <td>[{'id': 800, 'main': 'Clear', 'description': '...</td>\n",
       "      <td>stations</td>\n",
       "      <td>10000</td>\n",
       "      <td>1657275301</td>\n",
       "      <td>36000</td>\n",
       "      <td>2174003</td>\n",
       "      <td>Brisbane</td>\n",
       "      <td>200</td>\n",
       "      <td>153.0281</td>\n",
       "      <td>-27.4679</td>\n",
       "      <td>...</td>\n",
       "      <td>63</td>\n",
       "      <td>5.14</td>\n",
       "      <td>280</td>\n",
       "      <td>0</td>\n",
       "      <td>2</td>\n",
       "      <td>2005393</td>\n",
       "      <td>AU</td>\n",
       "      <td>1657226300</td>\n",
       "      <td>1657264020</td>\n",
       "      <td>NaN</td>\n",
       "    </tr>\n",
       "    <tr>\n",
       "      <th>4</th>\n",
       "      <td>[{'id': 802, 'main': 'Clouds', 'description': ...</td>\n",
       "      <td>stations</td>\n",
       "      <td>10000</td>\n",
       "      <td>1657275308</td>\n",
       "      <td>34200</td>\n",
       "      <td>2078025</td>\n",
       "      <td>Adelaide</td>\n",
       "      <td>200</td>\n",
       "      <td>138.6000</td>\n",
       "      <td>-34.9333</td>\n",
       "      <td>...</td>\n",
       "      <td>69</td>\n",
       "      <td>4.63</td>\n",
       "      <td>210</td>\n",
       "      <td>40</td>\n",
       "      <td>2</td>\n",
       "      <td>2001763</td>\n",
       "      <td>AU</td>\n",
       "      <td>1657230790</td>\n",
       "      <td>1657266456</td>\n",
       "      <td>NaN</td>\n",
       "    </tr>\n",
       "  </tbody>\n",
       "</table>\n",
       "<p>5 rows × 25 columns</p>\n",
       "</div>"
      ],
      "text/plain": [
       "                                             weather      base  visibility  \\\n",
       "0  [{'id': 803, 'main': 'Clouds', 'description': ...  stations       10000   \n",
       "1  [{'id': 800, 'main': 'Clear', 'description': '...  stations       10000   \n",
       "2  [{'id': 800, 'main': 'Clear', 'description': '...  stations       10000   \n",
       "3  [{'id': 800, 'main': 'Clear', 'description': '...  stations       10000   \n",
       "4  [{'id': 802, 'main': 'Clouds', 'description': ...  stations       10000   \n",
       "\n",
       "           dt  timezone       id      name  cod  coord.lon  coord.lat  ...  \\\n",
       "0  1657275567     36000  2172517  Canberra  200   149.1281   -35.2835  ...   \n",
       "1  1657275421     36000  2147714    Sydney  200   151.2073   -33.8679  ...   \n",
       "2  1657275641     34200  2073124    Darwin  200   130.8418   -12.4611  ...   \n",
       "3  1657275301     36000  2174003  Brisbane  200   153.0281   -27.4679  ...   \n",
       "4  1657275308     34200  2078025  Adelaide  200   138.6000   -34.9333  ...   \n",
       "\n",
       "   main.humidity  wind.speed  wind.deg  clouds.all  sys.type   sys.id  \\\n",
       "0             83        6.69       330          75         2  2004200   \n",
       "1             60        8.23       270           0         2  2002865   \n",
       "2             67        1.79        20           0         1     9574   \n",
       "3             63        5.14       280           0         2  2005393   \n",
       "4             69        4.63       210          40         2  2001763   \n",
       "\n",
       "   sys.country  sys.sunrise  sys.sunset  wind.gust  \n",
       "0           AU   1657228317  1657263876        NaN  \n",
       "1           AU   1657227607  1657263588      13.38  \n",
       "2           AU   1657229925  1657271045        NaN  \n",
       "3           AU   1657226300  1657264020        NaN  \n",
       "4           AU   1657230790  1657266456        NaN  \n",
       "\n",
       "[5 rows x 25 columns]"
      ]
     },
     "execution_count": 11,
     "metadata": {},
     "output_type": "execute_result"
    }
   ],
   "source": [
    "# convert list into dataframe \n",
    "df_weather_cities = pd.json_normalize(weather_data)\n",
    "df_weather_cities.head()"
   ]
  },
  {
   "cell_type": "code",
   "execution_count": null,
   "metadata": {},
   "outputs": [],
   "source": []
  }
 ],
 "metadata": {
  "interpreter": {
   "hash": "ec7476cd5298a73f69e8eecc398cdeac6e308767034e2d84faebe029453106ad"
  },
  "kernelspec": {
   "display_name": "Python 3.9.12 ('dec')",
   "language": "python",
   "name": "python3"
  },
  "language_info": {
   "codemirror_mode": {
    "name": "ipython",
    "version": 3
   },
   "file_extension": ".py",
   "mimetype": "text/x-python",
   "name": "python",
   "nbconvert_exporter": "python",
   "pygments_lexer": "ipython3",
   "version": "3.9.12"
  },
  "orig_nbformat": 4
 },
 "nbformat": 4,
 "nbformat_minor": 2
}
