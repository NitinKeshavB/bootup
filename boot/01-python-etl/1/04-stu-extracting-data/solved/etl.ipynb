{
 "cells": [
  {
   "cell_type": "code",
   "execution_count": 1,
   "metadata": {},
   "outputs": [],
   "source": [
    "import requests\n",
    "# get alpaca api keys using this guide: https://alpaca.markets/docs/market-data/getting-started/#creating-an-alpaca-account-and-finding-your-api-keys\n",
    "from secrets_config import api_key_id, api_secret_key \n",
    "import pandas as pd"
   ]
  },
  {
   "cell_type": "markdown",
   "metadata": {},
   "source": [
    "To get started with querying data from Alpaca markets, see this doc: https://alpaca.markets/docs/api-references/market-data-api/stock-pricing-data/historical/\n",
    "\n",
    "You should request data with the following parameters: \n",
    "- stock: tesla \n",
    "- start date: 01/01/2020\n",
    "- end date: 02/01/2020\n",
    "\n"
   ]
  },
  {
   "cell_type": "code",
   "execution_count": 2,
   "metadata": {},
   "outputs": [],
   "source": [
    "# docs: https://alpaca.markets/docs/api-references/market-data-api/stock-pricing-data/historical/\n",
    "\n",
    "\"\"\"\n",
    "request data with the following parameters: \n",
    "- stock: tesla \n",
    "- start date: 01/01/2020\n",
    "- end date: 02/01/2020\n",
    "\"\"\"\n",
    "stock_ticker = \"tsla\" # tlsa maps to tesla\n",
    "base_url = f\"https://data.alpaca.markets/v2/stocks/{stock_ticker}/trades\"\n",
    "start_time = \"2020-01-01T00:00:00.00Z\"\n",
    "end_time = \"2020-01-02T00:00:00.00Z\"\n",
    "\n",
    "\"\"\"\n",
    "to authenticate to the api, you will need to use the APCA-API-KEY-ID and APCA-API-SECRET-KEY fields. \n",
    "for example:\n",
    "    headers = {\n",
    "        \"APCA-API-KEY-ID\": \"<your_api_key_id>\",\n",
    "        \"APCA-API-SECRET-KEY\": \"<your_api_secret_key>\"\n",
    "    }   \n",
    "\n",
    "and in the request.get() method, you will have to use: \n",
    "    requests.get(url=url, params=params, headers=headers)\n",
    "\"\"\"\n",
    "\n",
    "response_data = []\n",
    "\n",
    "params = {\n",
    "    \"start\": start_time,\n",
    "    \"end\": end_time\n",
    "}\n",
    "\n",
    "# auth example: https://alpaca.markets/docs/api-references/trading-api/\n",
    "headers = {\n",
    "    \"APCA-API-KEY-ID\": api_key_id,\n",
    "    \"APCA-API-SECRET-KEY\": api_secret_key\n",
    "}\n",
    "response = requests.get(base_url, params=params, headers=headers)\n",
    "if response.json().get(\"trades\") is not None: \n",
    "    response_data.extend(response.json().get(\"trades\"))"
   ]
  },
  {
   "cell_type": "code",
   "execution_count": 3,
   "metadata": {},
   "outputs": [
    {
     "name": "stdout",
     "output_type": "stream",
     "text": [
      "[{'t': '2020-01-01T00:00:20.4997Z', 'x': 'K', 'p': 418.93, 's': 60, 'c': ['@', 'T', 'I'], 'i': 9905, 'z': 'C'}, {'t': '2020-01-01T00:00:38.5731Z', 'x': 'K', 'p': 418.7, 's': 10, 'c': ['@', 'T', 'I'], 'i': 9906, 'z': 'C'}, {'t': '2020-01-01T00:00:50.8222Z', 'x': 'T', 'p': 418.9, 's': 3, 'c': ['@', 'T', 'I'], 'i': 41862, 'z': 'C'}, {'t': '2020-01-01T00:00:50.8222Z', 'x': 'T', 'p': 418.58, 's': 2, 'c': ['@', 'T', 'I'], 'i': 41863, 'z': 'C'}, {'t': '2020-01-01T00:06:12.9975Z', 'x': 'D', 'p': 418.75, 's': 8, 'c': ['@', 'T', 'I'], 'i': 2183581, 'z': 'C'}, {'t': '2020-01-01T00:09:35.5596Z', 'x': 'K', 'p': 418.75, 's': 20, 'c': ['@', 'T', 'I'], 'i': 9907, 'z': 'C'}, {'t': '2020-01-01T00:10:13.0418Z', 'x': 'K', 'p': 418.75, 's': 115, 'c': ['@', 'F', 'T'], 'i': 9908, 'z': 'C'}, {'t': '2020-01-01T00:10:28.0684Z', 'x': 'K', 'p': 418.75, 's': 200, 'c': ['@', 'T'], 'i': 9909, 'z': 'C'}, {'t': '2020-01-01T00:10:59.0336Z', 'x': 'K', 'p': 418.75, 's': 100, 'c': ['@', 'F', 'T'], 'i': 9910, 'z': 'C'}, {'t': '2020-01-01T00:12:00.7345Z', 'x': 'D', 'p': 418.75, 's': 10, 'c': ['@', 'T', 'I'], 'i': 2183681, 'z': 'C'}, {'t': '2020-01-01T00:13:44.0227Z', 'x': 'K', 'p': 418.7, 's': 31, 'c': ['@', 'F', 'T', 'I'], 'i': 9911, 'z': 'C'}, {'t': '2020-01-01T00:13:44.0227Z', 'x': 'T', 'p': 418.58, 's': 18, 'c': ['@', 'F', 'T', 'I'], 'i': 41864, 'z': 'C'}, {'t': '2020-01-01T00:13:44.0227Z', 'x': 'T', 'p': 418.58, 's': 51, 'c': ['@', 'F', 'T', 'I'], 'i': 41865, 'z': 'C'}, {'t': '2020-01-01T00:14:55.4389Z', 'x': 'D', 'p': 418.75, 's': 8, 'c': ['@', 'T', 'I'], 'i': 2183781, 'z': 'C'}, {'t': '2020-01-01T00:15:03.1345Z', 'x': 'D', 'p': 418.92, 's': 42, 'c': ['@', 'T', 'I'], 'i': 2183881, 'z': 'C'}, {'t': '2020-01-01T00:15:56.0038Z', 'x': 'P', 'p': 418.9, 's': 5, 'c': ['@', 'F', 'T', 'I'], 'i': 12011, 'z': 'C'}, {'t': '2020-01-01T00:15:56.0038Z', 'x': 'T', 'p': 418.74, 's': 5, 'c': ['@', 'F', 'T', 'I'], 'i': 41866, 'z': 'C'}, {'t': '2020-01-01T00:16:56.5081Z', 'x': 'T', 'p': 418.72, 's': 5, 'c': ['@', 'T', 'I'], 'i': 41867, 'z': 'C'}, {'t': '2020-01-01T00:16:56.5081Z', 'x': 'T', 'p': 418.74, 's': 5, 'c': ['@', 'T', 'I'], 'i': 41868, 'z': 'C'}, {'t': '2020-01-01T00:16:56.668Z', 'x': 'T', 'p': 418.75, 's': 20, 'c': ['@', 'T', 'I'], 'i': 41869, 'z': 'C'}, {'t': '2020-01-01T00:17:01.1353Z', 'x': 'T', 'p': 418.75, 's': 51, 'c': ['@', 'T', 'I'], 'i': 41870, 'z': 'C'}, {'t': '2020-01-01T00:23:04.7709Z', 'x': 'D', 'p': 418.93, 's': 18, 'c': ['@', 'T', 'I'], 'i': 2108878, 'z': 'C'}, {'t': '2020-01-01T00:23:07.8699Z', 'x': 'K', 'p': 418.92, 's': 5, 'c': ['@', 'T', 'I'], 'i': 9912, 'z': 'C'}, {'t': '2020-01-01T00:23:08.4139Z', 'x': 'K', 'p': 418.93, 's': 195, 'c': ['@', 'T'], 'i': 9913, 'z': 'C'}, {'t': '2020-01-01T00:30:39.2224Z', 'x': 'K', 'p': 418.93, 's': 477, 'c': ['@', 'T'], 'i': 9914, 'z': 'C'}, {'t': '2020-01-01T00:30:39.2224Z', 'x': 'K', 'p': 418.93, 's': 23, 'c': ['@', 'F', 'T', 'I'], 'i': 9915, 'z': 'C'}, {'t': '2020-01-01T00:30:39.2224Z', 'x': 'P', 'p': 418.89, 's': 23, 'c': ['@', 'F', 'T', 'I'], 'i': 12012, 'z': 'C'}, {'t': '2020-01-01T00:30:53.5212Z', 'x': 'K', 'p': 418.93, 's': 27, 'c': ['@', 'F', 'T', 'I'], 'i': 9916, 'z': 'C'}, {'t': '2020-01-01T00:30:53.5212Z', 'x': 'P', 'p': 418.89, 's': 27, 'c': ['@', 'F', 'T', 'I'], 'i': 12013, 'z': 'C'}, {'t': '2020-01-01T00:32:29.1094Z', 'x': 'D', 'p': 418.94, 's': 5, 'c': ['@', 'T', 'I'], 'i': 2183981, 'z': 'C'}, {'t': '2020-01-01T00:32:36.7322Z', 'x': 'D', 'p': 418.95, 's': 82, 'c': ['@', 'T', 'I'], 'i': 2108978, 'z': 'C'}, {'t': '2020-01-01T00:33:10.3782Z', 'x': 'K', 'p': 418.75, 's': 70, 'c': ['@', 'T', 'I'], 'i': 9917, 'z': 'C'}, {'t': '2020-01-01T00:33:39.019Z', 'x': 'K', 'p': 418.75, 's': 2, 'c': ['@', 'T', 'I'], 'i': 9918, 'z': 'C'}, {'t': '2020-01-01T00:34:18.8265Z', 'x': 'K', 'p': 418.95, 's': 4, 'c': ['@', 'T', 'I'], 'i': 9919, 'z': 'C'}, {'t': '2020-01-01T00:35:22.3573Z', 'x': 'T', 'p': 418.88, 's': 20, 'c': ['@', 'T', 'I'], 'i': 41871, 'z': 'C'}, {'t': '2020-01-01T00:36:19.185Z', 'x': 'D', 'p': 418.76, 's': 2, 'c': ['@', 'T', 'I'], 'i': 2184081, 'z': 'C'}, {'t': '2020-01-01T00:36:19.185Z', 'x': 'D', 'p': 418.75, 's': 28, 'c': ['@', 'T', 'I'], 'i': 2184181, 'z': 'C'}, {'t': '2020-01-01T00:36:21.9132Z', 'x': 'K', 'p': 418.76, 's': 2, 'c': ['@', 'F', 'T', 'I'], 'i': 9920, 'z': 'C'}, {'t': '2020-01-01T00:36:21.9132Z', 'x': 'T', 'p': 418.8, 's': 3, 'c': ['@', 'F', 'T', 'I'], 'i': 41872, 'z': 'C'}, {'t': '2020-01-01T00:36:21.9132Z', 'x': 'T', 'p': 418.75, 's': 419, 'c': ['@', 'F', 'T'], 'i': 41873, 'z': 'C'}, {'t': '2020-01-01T00:37:46.7533Z', 'x': 'P', 'p': 418.65, 's': 20, 'c': ['@', 'F', 'T', 'I'], 'i': 12014, 'z': 'C'}, {'t': '2020-01-01T00:37:46.7533Z', 'x': 'T', 'p': 418.62, 's': 5, 'c': ['@', 'T', 'I'], 'i': 41874, 'z': 'C'}, {'t': '2020-01-01T00:37:46.7533Z', 'x': 'T', 'p': 418.6, 's': 20, 'c': ['@', 'F', 'T', 'I'], 'i': 41875, 'z': 'C'}, {'t': '2020-01-01T00:37:54.2248Z', 'x': 'T', 'p': 418.6, 's': 714, 'c': ['@', 'T'], 'i': 41876, 'z': 'C'}, {'t': '2020-01-01T00:40:06.7815Z', 'x': 'T', 'p': 418.6, 's': 4, 'c': ['@', 'F', 'T', 'I'], 'i': 41877, 'z': 'C'}, {'t': '2020-01-01T00:42:55.3128Z', 'x': 'T', 'p': 418.6, 's': 1, 'c': ['@', 'F', 'T', 'I'], 'i': 41878, 'z': 'C'}, {'t': '2020-01-01T00:45:04.7864Z', 'x': 'T', 'p': 418.56, 's': 13, 'c': ['@', 'T', 'I'], 'i': 41879, 'z': 'C'}, {'t': '2020-01-01T00:45:17.4513Z', 'x': 'T', 'p': 418.56, 's': 2, 'c': ['@', 'F', 'T', 'I'], 'i': 41880, 'z': 'C'}, {'t': '2020-01-01T00:45:41.4072Z', 'x': 'T', 'p': 418.56, 's': 100, 'c': ['@', 'F', 'T'], 'i': 41881, 'z': 'C'}, {'t': '2020-01-01T00:45:50.6985Z', 'x': 'D', 'p': 418.56, 's': 30, 'c': ['@', 'T', 'I'], 'i': 2109078, 'z': 'C'}, {'t': '2020-01-01T00:47:47.7822Z', 'x': 'T', 'p': 418.56, 's': 100, 'c': ['@', 'F', 'T'], 'i': 41882, 'z': 'C'}, {'t': '2020-01-01T00:49:07.5864Z', 'x': 'D', 'p': 418.6, 's': 500, 'c': ['@', 'T'], 'i': 2184281, 'z': 'C'}, {'t': '2020-01-01T00:51:04.5252Z', 'x': 'D', 'p': 418.5999, 's': 1000, 'c': ['@', 'T'], 'i': 2109178, 'z': 'C'}, {'t': '2020-01-01T00:51:04.5252Z', 'x': 'D', 'p': 418.6, 's': 200, 'c': ['@', 'T'], 'i': 2184381, 'z': 'C'}, {'t': '2020-01-01T00:52:18.7202Z', 'x': 'D', 'p': 418.6, 's': 14, 'c': ['@', 'T', 'I'], 'i': 2184481, 'z': 'C'}, {'t': '2020-01-01T00:53:46.9268Z', 'x': 'T', 'p': 418.56, 's': 85, 'c': ['@', 'F', 'T', 'I'], 'i': 41883, 'z': 'C'}, {'t': '2020-01-01T00:53:46.9268Z', 'x': 'T', 'p': 418.6, 's': 115, 'c': ['@', 'F', 'T'], 'i': 41884, 'z': 'C'}, {'t': '2020-01-01T00:55:07.084Z', 'x': 'T', 'p': 418.6, 's': 10, 'c': ['@', 'F', 'T', 'I'], 'i': 41885, 'z': 'C'}, {'t': '2020-01-01T00:57:17.7845Z', 'x': 'T', 'p': 418.6, 's': 35, 'c': ['@', 'F', 'T', 'I'], 'i': 41886, 'z': 'C'}, {'t': '2020-01-01T00:57:22.2312Z', 'x': 'D', 'p': 418.6, 's': 20, 'c': ['@', 'T', 'I'], 'i': 2184581, 'z': 'C'}, {'t': '2020-01-01T00:58:13.0119Z', 'x': 'K', 'p': 418.53, 's': 50, 'c': ['@', 'F', 'T', 'I'], 'i': 9921, 'z': 'C'}, {'t': '2020-01-01T00:58:13.0119Z', 'x': 'K', 'p': 418.5, 's': 100, 'c': ['@', 'F', 'T'], 'i': 9922, 'z': 'C'}, {'t': '2020-01-01T00:58:13.0119Z', 'x': 'K', 'p': 418.5, 's': 50, 'c': ['@', 'F', 'T', 'I'], 'i': 9923, 'z': 'C'}, {'t': '2020-01-01T00:58:13.0119Z', 'x': 'P', 'p': 418.52, 's': 100, 'c': ['@', 'F', 'T'], 'i': 12015, 'z': 'C'}, {'t': '2020-01-01T00:58:13.0119Z', 'x': 'P', 'p': 418.52, 's': 2, 'c': ['@', 'F', 'T', 'I'], 'i': 12016, 'z': 'C'}, {'t': '2020-01-01T00:58:13.0119Z', 'x': 'T', 'p': 418.52, 's': 2, 'c': ['@', 'T', 'I'], 'i': 41887, 'z': 'C'}, {'t': '2020-01-01T00:58:13.0119Z', 'x': 'T', 'p': 418.5, 's': 50, 'c': ['@', 'T', 'I'], 'i': 41888, 'z': 'C'}, {'t': '2020-01-01T00:58:13.0119Z', 'x': 'T', 'p': 418.5, 's': 46, 'c': ['@', 'T', 'I'], 'i': 41889, 'z': 'C'}, {'t': '2020-01-01T00:59:51.2922Z', 'x': 'T', 'p': 418.5, 's': 6, 'c': ['@', 'F', 'T', 'I'], 'i': 41890, 'z': 'C'}]\n"
     ]
    }
   ],
   "source": [
    "# show response data\n",
    "print(response_data)"
   ]
  },
  {
   "cell_type": "code",
   "execution_count": 4,
   "metadata": {},
   "outputs": [
    {
     "data": {
      "text/html": [
       "<div>\n",
       "<style scoped>\n",
       "    .dataframe tbody tr th:only-of-type {\n",
       "        vertical-align: middle;\n",
       "    }\n",
       "\n",
       "    .dataframe tbody tr th {\n",
       "        vertical-align: top;\n",
       "    }\n",
       "\n",
       "    .dataframe thead th {\n",
       "        text-align: right;\n",
       "    }\n",
       "</style>\n",
       "<table border=\"1\" class=\"dataframe\">\n",
       "  <thead>\n",
       "    <tr style=\"text-align: right;\">\n",
       "      <th></th>\n",
       "      <th>t</th>\n",
       "      <th>x</th>\n",
       "      <th>p</th>\n",
       "      <th>s</th>\n",
       "      <th>c</th>\n",
       "      <th>i</th>\n",
       "      <th>z</th>\n",
       "    </tr>\n",
       "  </thead>\n",
       "  <tbody>\n",
       "    <tr>\n",
       "      <th>0</th>\n",
       "      <td>2020-01-01T00:00:20.4997Z</td>\n",
       "      <td>K</td>\n",
       "      <td>418.93</td>\n",
       "      <td>60</td>\n",
       "      <td>[@, T, I]</td>\n",
       "      <td>9905</td>\n",
       "      <td>C</td>\n",
       "    </tr>\n",
       "    <tr>\n",
       "      <th>1</th>\n",
       "      <td>2020-01-01T00:00:38.5731Z</td>\n",
       "      <td>K</td>\n",
       "      <td>418.70</td>\n",
       "      <td>10</td>\n",
       "      <td>[@, T, I]</td>\n",
       "      <td>9906</td>\n",
       "      <td>C</td>\n",
       "    </tr>\n",
       "    <tr>\n",
       "      <th>2</th>\n",
       "      <td>2020-01-01T00:00:50.8222Z</td>\n",
       "      <td>T</td>\n",
       "      <td>418.90</td>\n",
       "      <td>3</td>\n",
       "      <td>[@, T, I]</td>\n",
       "      <td>41862</td>\n",
       "      <td>C</td>\n",
       "    </tr>\n",
       "    <tr>\n",
       "      <th>3</th>\n",
       "      <td>2020-01-01T00:00:50.8222Z</td>\n",
       "      <td>T</td>\n",
       "      <td>418.58</td>\n",
       "      <td>2</td>\n",
       "      <td>[@, T, I]</td>\n",
       "      <td>41863</td>\n",
       "      <td>C</td>\n",
       "    </tr>\n",
       "    <tr>\n",
       "      <th>4</th>\n",
       "      <td>2020-01-01T00:06:12.9975Z</td>\n",
       "      <td>D</td>\n",
       "      <td>418.75</td>\n",
       "      <td>8</td>\n",
       "      <td>[@, T, I]</td>\n",
       "      <td>2183581</td>\n",
       "      <td>C</td>\n",
       "    </tr>\n",
       "  </tbody>\n",
       "</table>\n",
       "</div>"
      ],
      "text/plain": [
       "                           t  x       p   s          c        i  z\n",
       "0  2020-01-01T00:00:20.4997Z  K  418.93  60  [@, T, I]     9905  C\n",
       "1  2020-01-01T00:00:38.5731Z  K  418.70  10  [@, T, I]     9906  C\n",
       "2  2020-01-01T00:00:50.8222Z  T  418.90   3  [@, T, I]    41862  C\n",
       "3  2020-01-01T00:00:50.8222Z  T  418.58   2  [@, T, I]    41863  C\n",
       "4  2020-01-01T00:06:12.9975Z  D  418.75   8  [@, T, I]  2183581  C"
      ]
     },
     "execution_count": 4,
     "metadata": {},
     "output_type": "execute_result"
    }
   ],
   "source": [
    "# store dictionary data into a dataframe \n",
    "df_quotes = pd.json_normalize(data=response_data, meta=[\"symbol\"])\n",
    "# show first 5 rows of dataframe \n",
    "df_quotes.head()"
   ]
  },
  {
   "cell_type": "code",
   "execution_count": null,
   "metadata": {},
   "outputs": [],
   "source": []
  }
 ],
 "metadata": {
  "interpreter": {
   "hash": "ec7476cd5298a73f69e8eecc398cdeac6e308767034e2d84faebe029453106ad"
  },
  "kernelspec": {
   "display_name": "Python 3.9.12 ('dec')",
   "language": "python",
   "name": "python3"
  },
  "language_info": {
   "codemirror_mode": {
    "name": "ipython",
    "version": 3
   },
   "file_extension": ".py",
   "mimetype": "text/x-python",
   "name": "python",
   "nbconvert_exporter": "python",
   "pygments_lexer": "ipython3",
   "version": "3.9.12"
  },
  "orig_nbformat": 4
 },
 "nbformat": 4,
 "nbformat_minor": 2
}
