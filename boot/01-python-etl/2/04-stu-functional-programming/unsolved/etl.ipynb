{
 "cells": [
  {
   "cell_type": "code",
   "execution_count": 10,
   "metadata": {},
   "outputs": [],
   "source": [
    "import requests\n",
    "# get alpaca api keys using this guide: https://alpaca.markets/docs/market-data/getting-started/#creating-an-alpaca-account-and-finding-your-api-keys\n",
    "from secrets_config import api_key_id, api_secret_key \n",
    "import pandas as pd"
   ]
  },
  {
   "cell_type": "code",
   "execution_count": 11,
   "metadata": {},
   "outputs": [],
   "source": [
    "import datetime as dt \n",
    "\n",
    "def generate_datetime_ranges(\n",
    "        start_date:str=None, \n",
    "        end_date:str=None, \n",
    "    )->list:\n",
    "    \"\"\" \n",
    "    Generates a range of datetime ranges. \n",
    "    - start_date: provide a str with the format \"yyyy-mm-dd\"\n",
    "    - end_date: provide a str with the format \"yyyy-mm-dd\" \n",
    "    Usage example: \n",
    "    - generate_datetime_ranges(start_date=\"2020-01-01\", end_date=\"2022-01-02\")\n",
    "        returns: \n",
    "            [\n",
    "                'start_time': '2020-01-01T00:00:00.00Z', 'end_time': '2020-01-02T00:00:00.00Z'}, \n",
    "                {'start_time': '2020-01-02T00:00:00.00Z', 'end_time': '2020-01-03T00:00:00.00Z'}\n",
    "            ]\n",
    "    \"\"\"\n",
    "\n",
    "    date_range = []\n",
    "    if start_date is not None and end_date is not None: \n",
    "        dte_start_date = dt.datetime.strptime(start_date, \"%Y-%m-%d\")\n",
    "        dte_end_date = dt.datetime.strptime(end_date, \"%Y-%m-%d\")\n",
    "        date_range = [\n",
    "            {\n",
    "                \"start_time\": (dte_start_date + dt.timedelta(days=i)).strftime(\"%Y-%m-%dT%H:%M:%S.00Z\"),\n",
    "                \"end_time\": (dte_start_date + dt.timedelta(days=i) + dt.timedelta(days=1)).strftime(\"%Y-%m-%dT%H:%M:%S.00Z\"),\n",
    "            }\n",
    "        for i in range((dte_end_date - dte_start_date).days)]\n",
    "    else: \n",
    "        raise Exception(\"The parameters passed in results in no action being performed.\")\n",
    "\n",
    "    return date_range  "
   ]
  },
  {
   "cell_type": "code",
   "execution_count": 12,
   "metadata": {},
   "outputs": [
    {
     "name": "stdout",
     "output_type": "stream",
     "text": [
      "2020-01-01T00:00:00.00Z 2020-01-02T00:00:00.00Z\n",
      "2020-01-02T00:00:00.00Z 2020-01-03T00:00:00.00Z\n",
      "2020-01-03T00:00:00.00Z 2020-01-04T00:00:00.00Z\n",
      "2020-01-04T00:00:00.00Z 2020-01-05T00:00:00.00Z\n"
     ]
    }
   ],
   "source": [
    "# docs: https://alpaca.markets/docs/api-references/market-data-api/stock-pricing-data/historical/\n",
    "\n",
    "\"\"\"\n",
    "request data with the following parameters: \n",
    "- stock: tesla \n",
    "- start date: 01/01/2020\n",
    "- end date: 02/01/2020\n",
    "\"\"\"\n",
    "stock_ticker = \"tsla\" # tlsa maps to tesla\n",
    "base_url = f\"https://data.alpaca.markets/v2/stocks/{stock_ticker}/trades\"\n",
    "start_date = \"2020-01-01\"\n",
    "end_date = \"2020-01-05\"\n",
    "response_data = []\n",
    "\n",
    "for date in generate_datetime_ranges(start_date=start_date, end_date=end_date):\n",
    "    start_time = date.get(\"start_time\")\n",
    "    end_time = date.get(\"end_time\")\n",
    "\n",
    "    print(start_time, end_time)\n",
    "\n",
    "    \"\"\"\n",
    "    to authenticate to the api, you will need to use the APCA-API-KEY-ID and APCA-API-SECRET-KEY fields. \n",
    "    for example:\n",
    "        headers = {\n",
    "            \"APCA-API-KEY-ID\": \"<your_api_key_id>\",\n",
    "            \"APCA-API-SECRET-KEY\": \"<your_api_secret_key>\"\n",
    "        }   \n",
    "\n",
    "    and in the request.get() method, you will have to use: \n",
    "        requests.get(url=url, params=params, headers=headers)\n",
    "    \"\"\"\n",
    "    \n",
    "    params = {\n",
    "        \"start\": start_time,\n",
    "        \"end\": end_time\n",
    "    }\n",
    "\n",
    "    # auth example: https://alpaca.markets/docs/api-references/trading-api/\n",
    "    headers = {\n",
    "        \"APCA-API-KEY-ID\": api_key_id,\n",
    "        \"APCA-API-SECRET-KEY\": api_secret_key\n",
    "    }\n",
    "    response = requests.get(base_url, params=params, headers=headers)\n",
    "    if response.json().get(\"trades\") is not None: \n",
    "        response_data.extend(response.json().get(\"trades\"))"
   ]
  },
  {
   "cell_type": "code",
   "execution_count": 13,
   "metadata": {},
   "outputs": [],
   "source": [
    "# read json data to a dataframe \n",
    "df_quotes = pd.json_normalize(data=response_data, meta=[\"symbol\"])\n",
    "# rename columns to more meaningful names\n",
    "df_quotes_renamed = df_quotes.rename(columns={\n",
    "    \"t\": \"timestamp\",\n",
    "    \"x\": \"exchange\",\n",
    "    \"p\": \"price\",\n",
    "    \"s\": \"size\",\n",
    "})"
   ]
  },
  {
   "cell_type": "code",
   "execution_count": 14,
   "metadata": {},
   "outputs": [],
   "source": [
    "# select only 'timestamp', 'exchange', 'price', 'size'\n",
    "df_quotes_selected = df_quotes_renamed[['timestamp', 'exchange', 'price', 'size']]"
   ]
  },
  {
   "cell_type": "code",
   "execution_count": 15,
   "metadata": {},
   "outputs": [],
   "source": [
    "df_exchange_codes = pd.read_csv(\"data/exchange_codes.csv\")"
   ]
  },
  {
   "cell_type": "code",
   "execution_count": 16,
   "metadata": {},
   "outputs": [
    {
     "data": {
      "text/html": [
       "<div>\n",
       "<style scoped>\n",
       "    .dataframe tbody tr th:only-of-type {\n",
       "        vertical-align: middle;\n",
       "    }\n",
       "\n",
       "    .dataframe tbody tr th {\n",
       "        vertical-align: top;\n",
       "    }\n",
       "\n",
       "    .dataframe thead th {\n",
       "        text-align: right;\n",
       "    }\n",
       "</style>\n",
       "<table border=\"1\" class=\"dataframe\">\n",
       "  <thead>\n",
       "    <tr style=\"text-align: right;\">\n",
       "      <th></th>\n",
       "      <th>timestamp</th>\n",
       "      <th>price</th>\n",
       "      <th>size</th>\n",
       "      <th>exchange</th>\n",
       "    </tr>\n",
       "  </thead>\n",
       "  <tbody>\n",
       "    <tr>\n",
       "      <th>0</th>\n",
       "      <td>2020-01-01T00:00:20.4997Z</td>\n",
       "      <td>418.93</td>\n",
       "      <td>60</td>\n",
       "      <td>Cboe EDGX</td>\n",
       "    </tr>\n",
       "    <tr>\n",
       "      <th>1</th>\n",
       "      <td>2020-01-01T00:00:38.5731Z</td>\n",
       "      <td>418.70</td>\n",
       "      <td>10</td>\n",
       "      <td>Cboe EDGX</td>\n",
       "    </tr>\n",
       "    <tr>\n",
       "      <th>2</th>\n",
       "      <td>2020-01-01T00:09:35.5596Z</td>\n",
       "      <td>418.75</td>\n",
       "      <td>20</td>\n",
       "      <td>Cboe EDGX</td>\n",
       "    </tr>\n",
       "    <tr>\n",
       "      <th>3</th>\n",
       "      <td>2020-01-01T00:10:13.0418Z</td>\n",
       "      <td>418.75</td>\n",
       "      <td>115</td>\n",
       "      <td>Cboe EDGX</td>\n",
       "    </tr>\n",
       "    <tr>\n",
       "      <th>4</th>\n",
       "      <td>2020-01-01T00:10:28.0684Z</td>\n",
       "      <td>418.75</td>\n",
       "      <td>200</td>\n",
       "      <td>Cboe EDGX</td>\n",
       "    </tr>\n",
       "  </tbody>\n",
       "</table>\n",
       "</div>"
      ],
      "text/plain": [
       "                   timestamp   price  size   exchange\n",
       "0  2020-01-01T00:00:20.4997Z  418.93    60  Cboe EDGX\n",
       "1  2020-01-01T00:00:38.5731Z  418.70    10  Cboe EDGX\n",
       "2  2020-01-01T00:09:35.5596Z  418.75    20  Cboe EDGX\n",
       "3  2020-01-01T00:10:13.0418Z  418.75   115  Cboe EDGX\n",
       "4  2020-01-01T00:10:28.0684Z  418.75   200  Cboe EDGX"
      ]
     },
     "execution_count": 16,
     "metadata": {},
     "output_type": "execute_result"
    }
   ],
   "source": [
    "df_exchange = pd.merge(left=df_quotes_selected, right=df_exchange_codes, left_on=\"exchange\", right_on=\"exchange_code\").drop(columns=[\"exchange_code\", \"exchange\"]).rename(columns={\"exchange_name\": \"exchange\"})\n",
    "df_exchange.head()"
   ]
  },
  {
   "cell_type": "code",
   "execution_count": 17,
   "metadata": {},
   "outputs": [
    {
     "data": {
      "text/html": [
       "<div>\n",
       "<style scoped>\n",
       "    .dataframe tbody tr th:only-of-type {\n",
       "        vertical-align: middle;\n",
       "    }\n",
       "\n",
       "    .dataframe tbody tr th {\n",
       "        vertical-align: top;\n",
       "    }\n",
       "\n",
       "    .dataframe thead th {\n",
       "        text-align: right;\n",
       "    }\n",
       "</style>\n",
       "<table border=\"1\" class=\"dataframe\">\n",
       "  <thead>\n",
       "    <tr style=\"text-align: right;\">\n",
       "      <th></th>\n",
       "      <th>timestamp</th>\n",
       "      <th>exchange</th>\n",
       "      <th>price</th>\n",
       "      <th>size</th>\n",
       "    </tr>\n",
       "  </thead>\n",
       "  <tbody>\n",
       "    <tr>\n",
       "      <th>0</th>\n",
       "      <td>2020-01-01T00:00:20.4997Z</td>\n",
       "      <td>Cboe EDGX</td>\n",
       "      <td>418.93</td>\n",
       "      <td>60</td>\n",
       "    </tr>\n",
       "    <tr>\n",
       "      <th>1</th>\n",
       "      <td>2020-01-01T00:00:38.5731Z</td>\n",
       "      <td>Cboe EDGX</td>\n",
       "      <td>418.70</td>\n",
       "      <td>10</td>\n",
       "    </tr>\n",
       "    <tr>\n",
       "      <th>2</th>\n",
       "      <td>2020-01-01T00:00:50.8222Z</td>\n",
       "      <td>NASDAQ Int</td>\n",
       "      <td>418.74</td>\n",
       "      <td>5</td>\n",
       "    </tr>\n",
       "    <tr>\n",
       "      <th>3</th>\n",
       "      <td>2020-01-01T00:06:12.9975Z</td>\n",
       "      <td>FINRA ADF</td>\n",
       "      <td>418.75</td>\n",
       "      <td>8</td>\n",
       "    </tr>\n",
       "    <tr>\n",
       "      <th>4</th>\n",
       "      <td>2020-01-01T00:09:35.5596Z</td>\n",
       "      <td>Cboe EDGX</td>\n",
       "      <td>418.75</td>\n",
       "      <td>20</td>\n",
       "    </tr>\n",
       "  </tbody>\n",
       "</table>\n",
       "</div>"
      ],
      "text/plain": [
       "                   timestamp    exchange   price  size\n",
       "0  2020-01-01T00:00:20.4997Z   Cboe EDGX  418.93    60\n",
       "1  2020-01-01T00:00:38.5731Z   Cboe EDGX  418.70    10\n",
       "2  2020-01-01T00:00:50.8222Z  NASDAQ Int  418.74     5\n",
       "3  2020-01-01T00:06:12.9975Z   FINRA ADF  418.75     8\n",
       "4  2020-01-01T00:09:35.5596Z   Cboe EDGX  418.75    20"
      ]
     },
     "execution_count": 17,
     "metadata": {},
     "output_type": "execute_result"
    }
   ],
   "source": [
    "# remove duplicates by doing a group by on the keys: timestamp and exchange\n",
    "# get the mean of price, and sum of size\n",
    "df_ask_bid_exchange_de_dup = df_exchange.groupby([\"timestamp\", \"exchange\"]).agg({\n",
    "    \"price\": \"mean\",\n",
    "    \"size\": \"sum\",\n",
    "}).reset_index()\n",
    "df_ask_bid_exchange_de_dup.head()"
   ]
  },
  {
   "cell_type": "markdown",
   "metadata": {},
   "source": [
    "Create new file with new timestamp of the ingestion start and end times"
   ]
  },
  {
   "cell_type": "code",
   "execution_count": 18,
   "metadata": {},
   "outputs": [],
   "source": [
    "date_ranges = generate_datetime_ranges(start_date=start_date, end_date=end_date)\n",
    "start_time = date_ranges[0][\"start_time\"]\n",
    "end_time = date_ranges[-1][\"end_time\"]\n",
    "\n",
    "df_ask_bid_exchange_de_dup.to_parquet(f\"data/exchange_data_{start_time}_{end_time}.parquet\", index=False)"
   ]
  },
  {
   "cell_type": "markdown",
   "metadata": {},
   "source": [
    "Upsert data into postgres database table using timestamp as the primary key"
   ]
  },
  {
   "cell_type": "code",
   "execution_count": 19,
   "metadata": {},
   "outputs": [],
   "source": [
    "from sqlalchemy import create_engine, Table, Column, Integer, String, MetaData, Float # https://www.tutorialspoint.com/sqlalchemy/sqlalchemy_core_creating_table.htm\n",
    "from sqlalchemy.engine import URL\n",
    "from sqlalchemy.dialects import postgresql\n",
    "from secrets_config import db_user, db_password, db_server_name, db_database_name\n",
    "from sqlalchemy.schema import CreateTable "
   ]
  },
  {
   "cell_type": "code",
   "execution_count": 20,
   "metadata": {},
   "outputs": [],
   "source": [
    "# create connection to database \n",
    "connection_url = URL.create(\n",
    "    drivername = \"postgresql+pg8000\", \n",
    "    username = db_user,\n",
    "    password = db_password,\n",
    "    host = db_server_name, \n",
    "    port = 5432,\n",
    "    database = db_database_name, \n",
    ")\n",
    "\n",
    "engine = create_engine(connection_url)\n"
   ]
  },
  {
   "cell_type": "code",
   "execution_count": 21,
   "metadata": {},
   "outputs": [
    {
     "data": {
      "text/plain": [
       "Index(['timestamp', 'exchange', 'price', 'size'], dtype='object')"
      ]
     },
     "execution_count": 21,
     "metadata": {},
     "output_type": "execute_result"
    }
   ],
   "source": [
    "df_ask_bid_exchange_de_dup.columns"
   ]
  },
  {
   "cell_type": "code",
   "execution_count": 22,
   "metadata": {},
   "outputs": [
    {
     "data": {
      "text/html": [
       "<div>\n",
       "<style scoped>\n",
       "    .dataframe tbody tr th:only-of-type {\n",
       "        vertical-align: middle;\n",
       "    }\n",
       "\n",
       "    .dataframe tbody tr th {\n",
       "        vertical-align: top;\n",
       "    }\n",
       "\n",
       "    .dataframe thead th {\n",
       "        text-align: right;\n",
       "    }\n",
       "</style>\n",
       "<table border=\"1\" class=\"dataframe\">\n",
       "  <thead>\n",
       "    <tr style=\"text-align: right;\">\n",
       "      <th></th>\n",
       "      <th>timestamp</th>\n",
       "      <th>exchange</th>\n",
       "      <th>price</th>\n",
       "      <th>size</th>\n",
       "    </tr>\n",
       "  </thead>\n",
       "  <tbody>\n",
       "    <tr>\n",
       "      <th>0</th>\n",
       "      <td>2020-01-01T00:00:20.4997Z</td>\n",
       "      <td>Cboe EDGX</td>\n",
       "      <td>418.930000</td>\n",
       "      <td>60</td>\n",
       "    </tr>\n",
       "    <tr>\n",
       "      <th>1</th>\n",
       "      <td>2020-01-01T00:00:38.5731Z</td>\n",
       "      <td>Cboe EDGX</td>\n",
       "      <td>418.700000</td>\n",
       "      <td>10</td>\n",
       "    </tr>\n",
       "    <tr>\n",
       "      <th>2</th>\n",
       "      <td>2020-01-01T00:00:50.8222Z</td>\n",
       "      <td>NASDAQ Int</td>\n",
       "      <td>418.740000</td>\n",
       "      <td>5</td>\n",
       "    </tr>\n",
       "    <tr>\n",
       "      <th>3</th>\n",
       "      <td>2020-01-01T00:06:12.9975Z</td>\n",
       "      <td>FINRA ADF</td>\n",
       "      <td>418.750000</td>\n",
       "      <td>8</td>\n",
       "    </tr>\n",
       "    <tr>\n",
       "      <th>4</th>\n",
       "      <td>2020-01-01T00:09:35.5596Z</td>\n",
       "      <td>Cboe EDGX</td>\n",
       "      <td>418.750000</td>\n",
       "      <td>20</td>\n",
       "    </tr>\n",
       "    <tr>\n",
       "      <th>...</th>\n",
       "      <td>...</td>\n",
       "      <td>...</td>\n",
       "      <td>...</td>\n",
       "      <td>...</td>\n",
       "    </tr>\n",
       "    <tr>\n",
       "      <th>1609</th>\n",
       "      <td>2020-01-04T00:59:13.4401Z</td>\n",
       "      <td>NASDAQ Int</td>\n",
       "      <td>442.000000</td>\n",
       "      <td>39</td>\n",
       "    </tr>\n",
       "    <tr>\n",
       "      <th>1610</th>\n",
       "      <td>2020-01-04T00:59:13.784Z</td>\n",
       "      <td>Cboe EDGX</td>\n",
       "      <td>442.200000</td>\n",
       "      <td>39</td>\n",
       "    </tr>\n",
       "    <tr>\n",
       "      <th>1611</th>\n",
       "      <td>2020-01-04T00:59:33.685Z</td>\n",
       "      <td>Cboe EDGX</td>\n",
       "      <td>442.066667</td>\n",
       "      <td>6</td>\n",
       "    </tr>\n",
       "    <tr>\n",
       "      <th>1612</th>\n",
       "      <td>2020-01-04T00:59:45.5109Z</td>\n",
       "      <td>FINRA ADF</td>\n",
       "      <td>441.910000</td>\n",
       "      <td>150</td>\n",
       "    </tr>\n",
       "    <tr>\n",
       "      <th>1613</th>\n",
       "      <td>2020-01-04T00:59:59.8311Z</td>\n",
       "      <td>FINRA ADF</td>\n",
       "      <td>441.910000</td>\n",
       "      <td>500</td>\n",
       "    </tr>\n",
       "  </tbody>\n",
       "</table>\n",
       "<p>1614 rows × 4 columns</p>\n",
       "</div>"
      ],
      "text/plain": [
       "                      timestamp    exchange       price  size\n",
       "0     2020-01-01T00:00:20.4997Z   Cboe EDGX  418.930000    60\n",
       "1     2020-01-01T00:00:38.5731Z   Cboe EDGX  418.700000    10\n",
       "2     2020-01-01T00:00:50.8222Z  NASDAQ Int  418.740000     5\n",
       "3     2020-01-01T00:06:12.9975Z   FINRA ADF  418.750000     8\n",
       "4     2020-01-01T00:09:35.5596Z   Cboe EDGX  418.750000    20\n",
       "...                         ...         ...         ...   ...\n",
       "1609  2020-01-04T00:59:13.4401Z  NASDAQ Int  442.000000    39\n",
       "1610   2020-01-04T00:59:13.784Z   Cboe EDGX  442.200000    39\n",
       "1611   2020-01-04T00:59:33.685Z   Cboe EDGX  442.066667     6\n",
       "1612  2020-01-04T00:59:45.5109Z   FINRA ADF  441.910000   150\n",
       "1613  2020-01-04T00:59:59.8311Z   FINRA ADF  441.910000   500\n",
       "\n",
       "[1614 rows x 4 columns]"
      ]
     },
     "execution_count": 22,
     "metadata": {},
     "output_type": "execute_result"
    }
   ],
   "source": [
    "df_ask_bid_exchange_de_dup"
   ]
  },
  {
   "cell_type": "code",
   "execution_count": 23,
   "metadata": {},
   "outputs": [],
   "source": [
    "meta = MetaData()\n",
    "stock_price_tesla_table = Table(\n",
    "    \"stock_price_tesla\", meta, \n",
    "    Column(\"timestamp\", String, primary_key=True),\n",
    "    Column(\"exchange\", String, primary_key=True),\n",
    "    Column(\"price\", Float),\n",
    "    Column(\"size\", Integer)\n",
    ")\n",
    "meta.create_all(engine) # creates table if it does not exist \n"
   ]
  },
  {
   "cell_type": "code",
   "execution_count": 24,
   "metadata": {},
   "outputs": [
    {
     "data": {
      "text/plain": [
       "<sqlalchemy.engine.cursor.LegacyCursorResult at 0x7fbbf3671d90>"
      ]
     },
     "execution_count": 24,
     "metadata": {},
     "output_type": "execute_result"
    }
   ],
   "source": [
    "insert_statement = postgresql.insert(stock_price_tesla_table).values(df_ask_bid_exchange_de_dup.to_dict(orient='records'))\n",
    "upsert_statement = insert_statement.on_conflict_do_update(\n",
    "    index_elements=['timestamp', 'exchange'],\n",
    "    set_={c.key: c for c in insert_statement.excluded if c.key not in ['timestamp','exchange']})\n",
    "engine.execute(upsert_statement)"
   ]
  },
  {
   "cell_type": "code",
   "execution_count": null,
   "metadata": {},
   "outputs": [],
   "source": []
  }
 ],
 "metadata": {
  "interpreter": {
   "hash": "ec7476cd5298a73f69e8eecc398cdeac6e308767034e2d84faebe029453106ad"
  },
  "kernelspec": {
   "display_name": "Python 3.9.12 ('dec')",
   "language": "python",
   "name": "python3"
  },
  "language_info": {
   "codemirror_mode": {
    "name": "ipython",
    "version": 3
   },
   "file_extension": ".py",
   "mimetype": "text/x-python",
   "name": "python",
   "nbconvert_exporter": "python",
   "pygments_lexer": "ipython3",
   "version": "3.9.12"
  },
  "orig_nbformat": 4
 },
 "nbformat": 4,
 "nbformat_minor": 2
}
