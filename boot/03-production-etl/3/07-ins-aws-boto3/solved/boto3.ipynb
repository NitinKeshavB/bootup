{
 "cells": [
  {
   "cell_type": "code",
   "execution_count": 10,
   "metadata": {},
   "outputs": [],
   "source": [
    "import boto3"
   ]
  },
  {
   "cell_type": "code",
   "execution_count": null,
   "metadata": {},
   "outputs": [],
   "source": [
    "# important: boto3 assumes that you have already authenticated to aws using `aws configure`"
   ]
  },
  {
   "cell_type": "code",
   "execution_count": 4,
   "metadata": {},
   "outputs": [
    {
     "name": "stdout",
     "output_type": "stream",
     "text": [
      "bobs-new-bucket\n",
      "bucket001jn\n",
      "data-101\n",
      "data-viz-lessons\n",
      "dec-001\n",
      "dec-003\n",
      "dw-001\n",
      "elasticbeanstalk-ap-southeast-2-298075473024\n",
      "intro-to-python-asdaf\n",
      "jn-bucket-002\n",
      "odsc-lakehouse\n"
     ]
    }
   ],
   "source": [
    "# list all buckets in s3\n",
    "s3 = boto3.resource(\"s3\")\n",
    "for bucket in s3.buckets.all():\n",
    "    print(bucket.name)"
   ]
  },
  {
   "cell_type": "code",
   "execution_count": 19,
   "metadata": {},
   "outputs": [
    {
     "name": "stdout",
     "output_type": "stream",
     "text": [
      "s3.ObjectSummary(bucket_name='dec-001', key='folder1/file1.csv')\n",
      "s3.ObjectSummary(bucket_name='dec-001', key='folder1/file2.csv')\n",
      "s3.ObjectSummary(bucket_name='dec-001', key='folder1/file3.csv')\n",
      "s3.ObjectSummary(bucket_name='dec-001', key='hello_world.txt')\n"
     ]
    }
   ],
   "source": [
    "# list objects in s3 \n",
    "bucket = s3.Bucket(\"dec-001\")\n",
    "for object in bucket.objects.all(): \n",
    "    print(object)"
   ]
  },
  {
   "cell_type": "code",
   "execution_count": 13,
   "metadata": {},
   "outputs": [],
   "source": [
    "from io import StringIO\n",
    "import pandas as pd "
   ]
  },
  {
   "cell_type": "code",
   "execution_count": 16,
   "metadata": {},
   "outputs": [
    {
     "name": "stdout",
     "output_type": "stream",
     "text": [
      "customer_id,sales\n",
      "1,50\n",
      "2,30\n",
      "3,45\n"
     ]
    }
   ],
   "source": [
    "# read file content \n",
    "raw_content = bucket.Object(key=\"folder1/file1.csv\").get().get('Body').read().decode('utf-8')\n",
    "print(raw_content)"
   ]
  },
  {
   "cell_type": "code",
   "execution_count": 18,
   "metadata": {},
   "outputs": [
    {
     "data": {
      "text/html": [
       "<div>\n",
       "<style scoped>\n",
       "    .dataframe tbody tr th:only-of-type {\n",
       "        vertical-align: middle;\n",
       "    }\n",
       "\n",
       "    .dataframe tbody tr th {\n",
       "        vertical-align: top;\n",
       "    }\n",
       "\n",
       "    .dataframe thead th {\n",
       "        text-align: right;\n",
       "    }\n",
       "</style>\n",
       "<table border=\"1\" class=\"dataframe\">\n",
       "  <thead>\n",
       "    <tr style=\"text-align: right;\">\n",
       "      <th></th>\n",
       "      <th>customer_id</th>\n",
       "      <th>sales</th>\n",
       "    </tr>\n",
       "  </thead>\n",
       "  <tbody>\n",
       "    <tr>\n",
       "      <th>0</th>\n",
       "      <td>1</td>\n",
       "      <td>50</td>\n",
       "    </tr>\n",
       "    <tr>\n",
       "      <th>1</th>\n",
       "      <td>2</td>\n",
       "      <td>30</td>\n",
       "    </tr>\n",
       "    <tr>\n",
       "      <th>2</th>\n",
       "      <td>3</td>\n",
       "      <td>45</td>\n",
       "    </tr>\n",
       "  </tbody>\n",
       "</table>\n",
       "</div>"
      ],
      "text/plain": [
       "   customer_id  sales\n",
       "0            1     50\n",
       "1            2     30\n",
       "2            3     45"
      ]
     },
     "execution_count": 18,
     "metadata": {},
     "output_type": "execute_result"
    }
   ],
   "source": [
    "# parse data into dataframe \n",
    "data = StringIO(raw_content)\n",
    "df = pd.read_csv(data)\n",
    "df.head()"
   ]
  },
  {
   "cell_type": "code",
   "execution_count": 24,
   "metadata": {},
   "outputs": [],
   "source": [
    "from io import BytesIO"
   ]
  },
  {
   "cell_type": "code",
   "execution_count": 25,
   "metadata": {},
   "outputs": [
    {
     "data": {
      "text/plain": [
       "s3.Object(bucket_name='dec-001', key='folder2/file1.parquet')"
      ]
     },
     "execution_count": 25,
     "metadata": {},
     "output_type": "execute_result"
    }
   ],
   "source": [
    "# write objects to s3 \n",
    "key = \"folder2/file1.parquet\"\n",
    "out_buffer = BytesIO()\n",
    "df.to_parquet(out_buffer, index=False)\n",
    "target_bucket = s3.Bucket('dec-001')\n",
    "target_bucket.put_object(Body=out_buffer.getvalue(), Key=key)\n"
   ]
  },
  {
   "cell_type": "code",
   "execution_count": null,
   "metadata": {},
   "outputs": [],
   "source": []
  }
 ],
 "metadata": {
  "kernelspec": {
   "display_name": "Python 3.9.12 ('dec')",
   "language": "python",
   "name": "python3"
  },
  "language_info": {
   "codemirror_mode": {
    "name": "ipython",
    "version": 3
   },
   "file_extension": ".py",
   "mimetype": "text/x-python",
   "name": "python",
   "nbconvert_exporter": "python",
   "pygments_lexer": "ipython3",
   "version": "3.9.12"
  },
  "orig_nbformat": 4,
  "vscode": {
   "interpreter": {
    "hash": "ec7476cd5298a73f69e8eecc398cdeac6e308767034e2d84faebe029453106ad"
   }
  }
 },
 "nbformat": 4,
 "nbformat_minor": 2
}
