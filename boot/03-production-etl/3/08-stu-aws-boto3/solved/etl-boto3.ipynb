{
 "cells": [
  {
   "cell_type": "code",
   "execution_count": 2,
   "metadata": {},
   "outputs": [],
   "source": [
    "import boto3\n",
    "from io import BytesIO\n",
    "import pandas as pd \n",
    "import requests \n",
    "import datetime as dt \n",
    "from secrets_config import api_key "
   ]
  },
  {
   "cell_type": "code",
   "execution_count": 4,
   "metadata": {},
   "outputs": [],
   "source": [
    "# use requests to get the current weather for your city \n",
    "city_name = \"perth\"\n",
    "response = requests.get(f\"https://api.openweathermap.org/data/2.5/weather?q={city_name}&appid={api_key}&units=metric\")\n",
    "if response.status_code == 200: \n",
    "    data = response.json()"
   ]
  },
  {
   "cell_type": "code",
   "execution_count": 7,
   "metadata": {},
   "outputs": [
    {
     "data": {
      "text/html": [
       "<div>\n",
       "<style scoped>\n",
       "    .dataframe tbody tr th:only-of-type {\n",
       "        vertical-align: middle;\n",
       "    }\n",
       "\n",
       "    .dataframe tbody tr th {\n",
       "        vertical-align: top;\n",
       "    }\n",
       "\n",
       "    .dataframe thead th {\n",
       "        text-align: right;\n",
       "    }\n",
       "</style>\n",
       "<table border=\"1\" class=\"dataframe\">\n",
       "  <thead>\n",
       "    <tr style=\"text-align: right;\">\n",
       "      <th></th>\n",
       "      <th>weather</th>\n",
       "      <th>base</th>\n",
       "      <th>visibility</th>\n",
       "      <th>dt</th>\n",
       "      <th>timezone</th>\n",
       "      <th>id</th>\n",
       "      <th>name</th>\n",
       "      <th>cod</th>\n",
       "      <th>coord.lon</th>\n",
       "      <th>coord.lat</th>\n",
       "      <th>...</th>\n",
       "      <th>main.humidity</th>\n",
       "      <th>wind.speed</th>\n",
       "      <th>wind.deg</th>\n",
       "      <th>rain.1h</th>\n",
       "      <th>clouds.all</th>\n",
       "      <th>sys.type</th>\n",
       "      <th>sys.id</th>\n",
       "      <th>sys.country</th>\n",
       "      <th>sys.sunrise</th>\n",
       "      <th>sys.sunset</th>\n",
       "    </tr>\n",
       "  </thead>\n",
       "  <tbody>\n",
       "    <tr>\n",
       "      <th>0</th>\n",
       "      <td>[{'id': 500, 'main': 'Rain', 'description': 'l...</td>\n",
       "      <td>stations</td>\n",
       "      <td>10000</td>\n",
       "      <td>1660047604</td>\n",
       "      <td>28800</td>\n",
       "      <td>2063523</td>\n",
       "      <td>Perth</td>\n",
       "      <td>200</td>\n",
       "      <td>115.8333</td>\n",
       "      <td>-31.9333</td>\n",
       "      <td>...</td>\n",
       "      <td>92</td>\n",
       "      <td>2.06</td>\n",
       "      <td>200</td>\n",
       "      <td>0.37</td>\n",
       "      <td>0</td>\n",
       "      <td>2</td>\n",
       "      <td>63154</td>\n",
       "      <td>AU</td>\n",
       "      <td>1659999553</td>\n",
       "      <td>1660038320</td>\n",
       "    </tr>\n",
       "  </tbody>\n",
       "</table>\n",
       "<p>1 rows × 25 columns</p>\n",
       "</div>"
      ],
      "text/plain": [
       "                                             weather      base  visibility  \\\n",
       "0  [{'id': 500, 'main': 'Rain', 'description': 'l...  stations       10000   \n",
       "\n",
       "           dt  timezone       id   name  cod  coord.lon  coord.lat  ...  \\\n",
       "0  1660047604     28800  2063523  Perth  200   115.8333   -31.9333  ...   \n",
       "\n",
       "   main.humidity  wind.speed  wind.deg  rain.1h  clouds.all  sys.type  sys.id  \\\n",
       "0             92        2.06       200     0.37           0         2   63154   \n",
       "\n",
       "   sys.country  sys.sunrise  sys.sunset  \n",
       "0           AU   1659999553  1660038320  \n",
       "\n",
       "[1 rows x 25 columns]"
      ]
     },
     "execution_count": 7,
     "metadata": {},
     "output_type": "execute_result"
    }
   ],
   "source": [
    "# flatten json data into a pandas dataframe \n",
    "df = pd.json_normalize(data)\n",
    "df.head()"
   ]
  },
  {
   "cell_type": "code",
   "execution_count": 17,
   "metadata": {},
   "outputs": [
    {
     "data": {
      "text/plain": [
       "s3.Object(bucket_name='dec-001', key='weather/perth_2022-08-09T20:33:09')"
      ]
     },
     "execution_count": 17,
     "metadata": {},
     "output_type": "execute_result"
    }
   ],
   "source": [
    "# write data to an S3 bucket using the parquet file format \n",
    "# append the current timestamp to the filepath \n",
    "s3 = boto3.resource(\"s3\")\n",
    "bucket = s3.Bucket(\"dec-001\")\n",
    "current_timestamp = dt.datetime.now().strftime(\"%Y-%m-%dT%H:%M:%S\")\n",
    "key = f\"weather/perth_{current_timestamp}\"\n",
    "out_buffer = BytesIO()\n",
    "df.to_parquet(out_buffer, index=False)\n",
    "bucket.put_object(Body=out_buffer.getvalue(), Key=key)"
   ]
  },
  {
   "cell_type": "code",
   "execution_count": null,
   "metadata": {},
   "outputs": [],
   "source": []
  }
 ],
 "metadata": {
  "kernelspec": {
   "display_name": "Python 3.9.12 ('dec')",
   "language": "python",
   "name": "python3"
  },
  "language_info": {
   "codemirror_mode": {
    "name": "ipython",
    "version": 3
   },
   "file_extension": ".py",
   "mimetype": "text/x-python",
   "name": "python",
   "nbconvert_exporter": "python",
   "pygments_lexer": "ipython3",
   "version": "3.9.12"
  },
  "orig_nbformat": 4,
  "vscode": {
   "interpreter": {
    "hash": "ec7476cd5298a73f69e8eecc398cdeac6e308767034e2d84faebe029453106ad"
   }
  }
 },
 "nbformat": 4,
 "nbformat_minor": 2
}
