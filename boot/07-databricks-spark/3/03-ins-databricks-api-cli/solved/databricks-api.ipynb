{
 "cells": [
  {
   "cell_type": "code",
   "execution_count": 2,
   "metadata": {},
   "outputs": [],
   "source": [
    "import requests\n",
    "from secrets_config import DATABRICKS_API_TOKEN"
   ]
  },
  {
   "cell_type": "markdown",
   "metadata": {},
   "source": [
    "## Authentication\n",
    "\n",
    "https://docs.databricks.com/dev-tools/api/latest/authentication.html "
   ]
  },
  {
   "cell_type": "code",
   "execution_count": null,
   "metadata": {},
   "outputs": [],
   "source": [
    "headers = {\n",
    "    \"Authentication\": f\"Bearer {DATABRICKS_API_TOKEN}\"\n",
    "}"
   ]
  },
  {
   "cell_type": "markdown",
   "metadata": {},
   "source": [
    "## Get jobs"
   ]
  },
  {
   "cell_type": "code",
   "execution_count": 8,
   "metadata": {},
   "outputs": [
    {
     "name": "stdout",
     "output_type": "stream",
     "text": [
      "{'jobs': [{'job_id': 501293398479120, 'creator_user_name': '2022-09-databricks@dataengineercamp.com', 'settings': {'name': 'product_sales_pipeline', 'email_notifications': {'on_failure': ['jonathanneo@me.com'], 'no_alert_for_skipped_runs': False}, 'timeout_seconds': 0, 'schedule': {'quartz_cron_expression': '30 0 8 * * ?', 'timezone_id': 'UTC', 'pause_status': 'UNPAUSED'}, 'max_concurrent_runs': 1, 'format': 'MULTI_TASK'}, 'created_time': 1665906589260}], 'has_more': False}\n"
     ]
    }
   ],
   "source": [
    "url = \"https://dbc-6296a35d-9fb7.cloud.databricks.com/api/2.1/jobs/list\"\n",
    "headers = {\n",
    "    \"Authentication\": f\"Bearer {DATABRICKS_API_TOKEN}\"\n",
    "}\n",
    "response = requests.get(url=url, headers=headers)\n",
    "if response.status_code == 200: \n",
    "    print(response.json())\n",
    "else: \n",
    "    print(\"Error: request failed\")"
   ]
  },
  {
   "cell_type": "markdown",
   "metadata": {},
   "source": [
    "## Run job"
   ]
  },
  {
   "cell_type": "code",
   "execution_count": 9,
   "metadata": {},
   "outputs": [
    {
     "name": "stdout",
     "output_type": "stream",
     "text": [
      "<Response [200]>\n"
     ]
    }
   ],
   "source": [
    "url = \"https://dbc-6296a35d-9fb7.cloud.databricks.com/api/2.1/jobs/run-now\"\n",
    "headers = {\n",
    "    \"Authentication\": f\"Bearer {DATABRICKS_API_TOKEN}\"\n",
    "}\n",
    "data = {\n",
    "    \"job_id\": 501293398479120\n",
    "}\n",
    "\n",
    "response = requests.post(url=url, headers=headers, json=data)\n",
    "print(response.json()) # run_id \n"
   ]
  },
  {
   "cell_type": "code",
   "execution_count": null,
   "metadata": {},
   "outputs": [],
   "source": []
  }
 ],
 "metadata": {
  "kernelspec": {
   "display_name": "Python 3.9.12 ('dec')",
   "language": "python",
   "name": "python3"
  },
  "language_info": {
   "codemirror_mode": {
    "name": "ipython",
    "version": 3
   },
   "file_extension": ".py",
   "mimetype": "text/x-python",
   "name": "python",
   "nbconvert_exporter": "python",
   "pygments_lexer": "ipython3",
   "version": "3.9.12"
  },
  "orig_nbformat": 4,
  "vscode": {
   "interpreter": {
    "hash": "ec7476cd5298a73f69e8eecc398cdeac6e308767034e2d84faebe029453106ad"
   }
  }
 },
 "nbformat": 4,
 "nbformat_minor": 2
}
