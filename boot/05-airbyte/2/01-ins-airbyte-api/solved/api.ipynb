{
 "cells": [
  {
   "cell_type": "code",
   "execution_count": 1,
   "metadata": {},
   "outputs": [],
   "source": [
    "import requests "
   ]
  },
  {
   "cell_type": "markdown",
   "metadata": {},
   "source": [
    "Running the sync job"
   ]
  },
  {
   "cell_type": "code",
   "execution_count": 13,
   "metadata": {},
   "outputs": [
    {
     "name": "stdout",
     "output_type": "stream",
     "text": [
      "200\n",
      "{'job': {'id': 7, 'configType': 'sync', 'configId': '3375812a-f8f0-4a6e-8bbd-6bb43ffdb73d', 'createdAt': 1660970803, 'updatedAt': 1660970803, 'status': 'running'}, 'attempts': [{'attempt': {'id': 0, 'status': 'running', 'createdAt': 1660970803, 'updatedAt': 1660970803, 'streamStats': []}, 'logs': {'logLines': ['2022-08-20 04:46:43 \\x1b[32mINFO\\x1b[m i.a.w.t.TemporalAttemptExecution(get):105 - Docker volume job log path: /tmp/workspace/7/0/logs.log', '2022-08-20 04:46:43 \\x1b[32mINFO\\x1b[m i.a.w.t.TemporalAttemptExecution(get):110 - Executing worker wrapper. Airbyte version: 0.40.0-alpha']}}]}\n"
     ]
    }
   ],
   "source": [
    "url = \"http://localhost:8000/api/v1/connections/sync\"\n",
    "data = {\n",
    "    \"connectionId\": \"3375812a-f8f0-4a6e-8bbd-6bb43ffdb73d\"\n",
    "}\n",
    "response = requests.post(url=url, json=data)\n",
    "print(response.status_code)\n",
    "print(response.json())"
   ]
  },
  {
   "cell_type": "code",
   "execution_count": 14,
   "metadata": {},
   "outputs": [
    {
     "name": "stdout",
     "output_type": "stream",
     "text": [
      "job_id: 7\n"
     ]
    }
   ],
   "source": [
    "# getting the job id \n",
    "job_id = response.json()[\"job\"][\"id\"]\n",
    "print(f\"job_id: {job_id}\")"
   ]
  },
  {
   "cell_type": "markdown",
   "metadata": {},
   "source": [
    "Getting the job status "
   ]
  },
  {
   "cell_type": "code",
   "execution_count": 15,
   "metadata": {},
   "outputs": [],
   "source": [
    "url = \"http://localhost:8000/api/v1/jobs/get\"\n",
    "data = {\n",
    "    \"id\": job_id\n",
    "}\n",
    "response = requests.post(url=url, json=data)"
   ]
  },
  {
   "cell_type": "code",
   "execution_count": 16,
   "metadata": {},
   "outputs": [
    {
     "data": {
      "text/plain": [
       "'running'"
      ]
     },
     "execution_count": 16,
     "metadata": {},
     "output_type": "execute_result"
    }
   ],
   "source": [
    "response.json()[\"job\"][\"status\"]"
   ]
  },
  {
   "cell_type": "code",
   "execution_count": null,
   "metadata": {},
   "outputs": [],
   "source": []
  }
 ],
 "metadata": {
  "kernelspec": {
   "display_name": "Python 3.9.12 ('dec')",
   "language": "python",
   "name": "python3"
  },
  "language_info": {
   "codemirror_mode": {
    "name": "ipython",
    "version": 3
   },
   "file_extension": ".py",
   "mimetype": "text/x-python",
   "name": "python",
   "nbconvert_exporter": "python",
   "pygments_lexer": "ipython3",
   "version": "3.9.12"
  },
  "orig_nbformat": 4,
  "vscode": {
   "interpreter": {
    "hash": "ec7476cd5298a73f69e8eecc398cdeac6e308767034e2d84faebe029453106ad"
   }
  }
 },
 "nbformat": 4,
 "nbformat_minor": 2
}
