{
 "cells": [
  {
   "cell_type": "code",
   "execution_count": 1,
   "metadata": {},
   "outputs": [],
   "source": [
    "import requests "
   ]
  },
  {
   "cell_type": "markdown",
   "metadata": {},
   "source": [
    "Running the sync job"
   ]
  },
  {
   "cell_type": "code",
   "execution_count": 2,
   "metadata": {},
   "outputs": [
    {
     "name": "stdout",
     "output_type": "stream",
     "text": [
      "200\n",
      "{'job': {'id': 3, 'configType': 'sync', 'configId': '47df87bf-150b-4ac7-9f2a-1f7dabdb16c8', 'createdAt': 1661346982, 'updatedAt': 1661346982, 'status': 'running'}, 'attempts': [{'attempt': {'id': 0, 'status': 'running', 'createdAt': 1661346982, 'updatedAt': 1661346982, 'streamStats': []}, 'logs': {'logLines': ['2022-08-24 13:16:22 \\x1b[32mINFO\\x1b[m i.a.w.t.TemporalAttemptExecution(get):105 - Docker volume job log path: /tmp/workspace/3/0/logs.log', '2022-08-24 13:16:22 \\x1b[32mINFO\\x1b[m i.a.w.t.TemporalAttemptExecution(get):110 - Executing worker wrapper. Airbyte version: 0.40.1']}}]}\n"
     ]
    }
   ],
   "source": [
    "url = \"http://ec2-52-64-186-232.ap-southeast-2.compute.amazonaws.com:8000/api/v1/connections/sync\"\n",
    "data = {\n",
    "    \"connectionId\": \"47df87bf-150b-4ac7-9f2a-1f7dabdb16c8\"\n",
    "}\n",
    "response = requests.post(url=url, json=data)\n",
    "print(response.status_code)\n",
    "print(response.json())"
   ]
  },
  {
   "cell_type": "code",
   "execution_count": null,
   "metadata": {},
   "outputs": [],
   "source": []
  }
 ],
 "metadata": {
  "kernelspec": {
   "display_name": "Python 3.9.12 ('dec')",
   "language": "python",
   "name": "python3"
  },
  "language_info": {
   "codemirror_mode": {
    "name": "ipython",
    "version": 3
   },
   "file_extension": ".py",
   "mimetype": "text/x-python",
   "name": "python",
   "nbconvert_exporter": "python",
   "pygments_lexer": "ipython3",
   "version": "3.9.12"
  },
  "orig_nbformat": 4,
  "vscode": {
   "interpreter": {
    "hash": "ec7476cd5298a73f69e8eecc398cdeac6e308767034e2d84faebe029453106ad"
   }
  }
 },
 "nbformat": 4,
 "nbformat_minor": 2
}
