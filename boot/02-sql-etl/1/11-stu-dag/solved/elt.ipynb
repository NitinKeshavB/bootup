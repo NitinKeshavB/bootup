{
 "cells": [
  {
   "cell_type": "code",
   "execution_count": 38,
   "metadata": {},
   "outputs": [],
   "source": [
    "import pandas as pd\n",
    "import requests\n",
    "from secrets_config import api_key_id, api_secret_key \n",
    "import jinja2 as j2 "
   ]
  },
  {
   "cell_type": "markdown",
   "metadata": {},
   "source": [
    "Extract data"
   ]
  },
  {
   "cell_type": "code",
   "execution_count": 39,
   "metadata": {},
   "outputs": [],
   "source": [
    "# retrieve data for tesla between 2020-01-01 to 2020-01-02\n",
    "# auth example: https://alpaca.markets/docs/api-references/trading-api/\n",
    "\n",
    "stock_ticker = \"tsla\"\n",
    "base_url = f\"https://data.alpaca.markets/v2/stocks/{stock_ticker}/trades\"\n",
    "start_time = \"2020-01-01T00:00:00.00Z\"\n",
    "end_time = \"2020-01-02T00:00:00.00Z\"\n",
    "\n",
    "response_data = []\n",
    "\n",
    "params = {\n",
    "    \"start\": start_time,\n",
    "    \"end\": end_time\n",
    "}\n",
    "\n",
    "headers = {\n",
    "    \"APCA-API-KEY-ID\": api_key_id,\n",
    "    \"APCA-API-SECRET-KEY\": api_secret_key\n",
    "}\n",
    "response = requests.get(base_url, params=params, headers=headers)\n",
    "if response.json().get(\"trades\") is not None: \n",
    "    response_data.extend(response.json().get(\"trades\"))"
   ]
  },
  {
   "cell_type": "code",
   "execution_count": 40,
   "metadata": {},
   "outputs": [],
   "source": [
    "# read trade data into a dataframe\n",
    "df = pd.json_normalize(data=response_data, max_level=0)"
   ]
  },
  {
   "cell_type": "code",
   "execution_count": 41,
   "metadata": {},
   "outputs": [],
   "source": [
    "# read exchange codes data into a dataframe \n",
    "df_exchange_codes = pd.read_csv(\"data/exchange_codes.csv\")"
   ]
  },
  {
   "cell_type": "markdown",
   "metadata": {},
   "source": [
    "Load data"
   ]
  },
  {
   "cell_type": "code",
   "execution_count": 42,
   "metadata": {},
   "outputs": [],
   "source": [
    "# import libraries for sql \n",
    "from sqlalchemy import create_engine, Table, Column, Integer, String, MetaData, Float, JSON \n",
    "from sqlalchemy.engine import URL\n",
    "from sqlalchemy.dialects import postgresql\n",
    "from secrets_config import db_user, db_password, db_server_name, db_database_name"
   ]
  },
  {
   "cell_type": "code",
   "execution_count": 43,
   "metadata": {},
   "outputs": [],
   "source": [
    "# create connection to database \n",
    "connection_url = URL.create(\n",
    "    drivername = \"postgresql+pg8000\", \n",
    "    username = db_user,\n",
    "    password = db_password,\n",
    "    host = db_server_name, \n",
    "    port = 5432,\n",
    "    database = db_database_name, \n",
    ")\n",
    "\n",
    "engine = create_engine(connection_url)"
   ]
  },
  {
   "cell_type": "code",
   "execution_count": 44,
   "metadata": {},
   "outputs": [],
   "source": [
    "# create meta object \n",
    "meta = MetaData()\n",
    "\n",
    "# specify trade data table schema \n",
    "# see field definition here: https://alpaca.markets/docs/api-references/market-data-api/stock-pricing-data/historical/#trade \n",
    "trades_table = Table(\n",
    "    \"raw_trades\", meta, \n",
    "    Column(\"i\", Integer, primary_key=True),\n",
    "    Column(\"t\", String),\n",
    "    Column(\"x\", String),\n",
    "    Column(\"p\", Float),\n",
    "    Column(\"s\", Integer),\n",
    "    Column(\"c\", String),\n",
    "    Column(\"z\", String)\n",
    ")\n",
    "\n",
    "# specify exchange codes table schema \n",
    "exchange_codes_table = Table(\n",
    "    \"raw_exchange_codes\", meta, \n",
    "    Column(\"exchange_code\", String, primary_key=True), \n",
    "    Column(\"exchange_name\", String)\n",
    ")\n",
    "\n",
    "# creates table if it does not exist \n",
    "meta.create_all(engine) "
   ]
  },
  {
   "cell_type": "code",
   "execution_count": 45,
   "metadata": {},
   "outputs": [
    {
     "data": {
      "text/plain": [
       "<sqlalchemy.engine.cursor.LegacyCursorResult at 0x7fed848c7790>"
      ]
     },
     "execution_count": 45,
     "metadata": {},
     "output_type": "execute_result"
    }
   ],
   "source": [
    "# upsert data to trade table \n",
    "insert_statement = postgresql.insert(trades_table).values(df.to_dict(orient='records'))\n",
    "upsert_statement = insert_statement.on_conflict_do_update(\n",
    "    index_elements=['i'],\n",
    "    set_={c.key: c for c in insert_statement.excluded if c.key not in ['i']})\n",
    "engine.execute(upsert_statement)\n",
    "\n",
    "# upsert data to exchange codes table \n",
    "insert_statement = postgresql.insert(exchange_codes_table).values(df_exchange_codes.to_dict(orient='records'))\n",
    "upsert_statement = insert_statement.on_conflict_do_update(\n",
    "    index_elements=['exchange_code'],\n",
    "    set_={c.key: c for c in insert_statement.excluded if c.key not in ['exchange_code']})\n",
    "engine.execute(upsert_statement)"
   ]
  },
  {
   "cell_type": "markdown",
   "metadata": {},
   "source": [
    "Transform"
   ]
  },
  {
   "cell_type": "code",
   "execution_count": 46,
   "metadata": {},
   "outputs": [],
   "source": [
    "import os \n",
    "import logging \n",
    "\n",
    "def build_model(model, engine, models_path=\"models\")->bool:\n",
    "    \"\"\"\n",
    "    Builds models with a matching file name in the models_path folder. \n",
    "    - `model`: the name of the model (without .sql)\n",
    "    - `models_path`: the path to the models directory containing the sql files. defaults to `models`\n",
    "    \"\"\"\n",
    "    logging.basicConfig(level=logging.INFO, format=\"[%(levelname)s][%(asctime)s]: %(message)s\")\n",
    "    \n",
    "    if f\"{model}.sql\" in os.listdir(models_path):\n",
    "        logging.info(f\"Building model: {model}\")\n",
    "    \n",
    "        # read sql contents into a variable \n",
    "        with open(f\"{models_path}/{model}.sql\") as f: \n",
    "            raw_sql = f.read()\n",
    "\n",
    "        # parse sql using jinja \n",
    "        parsed_sql = j2.Template(raw_sql).render(target_table = model, engine=engine)\n",
    "\n",
    "        # execute parsed sql \n",
    "        result = engine.execute(parsed_sql)\n",
    "        logging.info(f\"Successfully built model: {model}, rows inserted/updated: {result.rowcount}\")\n",
    "        return True \n",
    "    else: \n",
    "        logging.error(f\"Could not find model: {model}\")"
   ]
  },
  {
   "cell_type": "code",
   "execution_count": 47,
   "metadata": {},
   "outputs": [],
   "source": [
    "# import TopologicalSorter\n",
    "from graphlib import TopologicalSorter"
   ]
  },
  {
   "cell_type": "code",
   "execution_count": 48,
   "metadata": {},
   "outputs": [
    {
     "name": "stdout",
     "output_type": "stream",
     "text": [
      "('staging_trades', 'staging_exchange_codes', 'serving_trades', 'serving_exchange_summary')\n"
     ]
    }
   ],
   "source": [
    "# create a DAG of models using TopologicalSorter\n",
    "ts = TopologicalSorter()\n",
    "ts.add(\"staging_trades\")\n",
    "ts.add(\"staging_exchange_codes\")\n",
    "ts.add(\"serving_trades\", \"staging_trades\", \"staging_exchange_codes\")\n",
    "ts.add(\"serving_exchange_summary\", \"serving_trades\")\n",
    "dag = tuple(ts.static_order())\n",
    "print(dag)"
   ]
  },
  {
   "cell_type": "code",
   "execution_count": 49,
   "metadata": {},
   "outputs": [
    {
     "name": "stderr",
     "output_type": "stream",
     "text": [
      "[INFO][2022-07-24 00:12:30,125]: Building model: staging_trades\n",
      "[INFO][2022-07-24 00:12:30,146]: Successfully built model: staging_trades, rows inserted/updated: 0\n",
      "[INFO][2022-07-24 00:12:30,147]: Building model: staging_exchange_codes\n",
      "[INFO][2022-07-24 00:12:30,161]: Successfully built model: staging_exchange_codes, rows inserted/updated: 22\n",
      "[INFO][2022-07-24 00:12:30,162]: Building model: serving_trades\n",
      "[INFO][2022-07-24 00:12:30,253]: Successfully built model: serving_trades, rows inserted/updated: 0\n",
      "[INFO][2022-07-24 00:12:30,254]: Building model: serving_exchange_summary\n",
      "[INFO][2022-07-24 00:12:30,265]: Successfully built model: serving_exchange_summary, rows inserted/updated: 0\n"
     ]
    }
   ],
   "source": [
    "# execute each node in the dag in order using a for loop \n",
    "for node in dag: \n",
    "    build_model(model=node, engine=engine, models_path=\"models/\")"
   ]
  },
  {
   "cell_type": "code",
   "execution_count": null,
   "metadata": {},
   "outputs": [],
   "source": []
  }
 ],
 "metadata": {
  "interpreter": {
   "hash": "ec7476cd5298a73f69e8eecc398cdeac6e308767034e2d84faebe029453106ad"
  },
  "kernelspec": {
   "display_name": "Python 3.9.12 ('dec')",
   "language": "python",
   "name": "python3"
  },
  "language_info": {
   "codemirror_mode": {
    "name": "ipython",
    "version": 3
   },
   "file_extension": ".py",
   "mimetype": "text/x-python",
   "name": "python",
   "nbconvert_exporter": "python",
   "pygments_lexer": "ipython3",
   "version": "3.9.12"
  },
  "orig_nbformat": 4
 },
 "nbformat": 4,
 "nbformat_minor": 2
}
