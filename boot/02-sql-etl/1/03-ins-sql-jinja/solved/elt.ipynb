{
 "cells": [
  {
   "cell_type": "code",
   "execution_count": 13,
   "metadata": {},
   "outputs": [],
   "source": [
    "import pandas as pd \n",
    "import requests \n",
    "from secrets_config import api_key\n",
    "import jinja2 as j2"
   ]
  },
  {
   "cell_type": "markdown",
   "metadata": {},
   "source": [
    "Extract data"
   ]
  },
  {
   "cell_type": "code",
   "execution_count": 14,
   "metadata": {},
   "outputs": [
    {
     "data": {
      "text/html": [
       "<div>\n",
       "<style scoped>\n",
       "    .dataframe tbody tr th:only-of-type {\n",
       "        vertical-align: middle;\n",
       "    }\n",
       "\n",
       "    .dataframe tbody tr th {\n",
       "        vertical-align: top;\n",
       "    }\n",
       "\n",
       "    .dataframe thead th {\n",
       "        text-align: right;\n",
       "    }\n",
       "</style>\n",
       "<table border=\"1\" class=\"dataframe\">\n",
       "  <thead>\n",
       "    <tr style=\"text-align: right;\">\n",
       "      <th></th>\n",
       "      <th>city_name</th>\n",
       "    </tr>\n",
       "  </thead>\n",
       "  <tbody>\n",
       "    <tr>\n",
       "      <th>0</th>\n",
       "      <td>canberra</td>\n",
       "    </tr>\n",
       "    <tr>\n",
       "      <th>1</th>\n",
       "      <td>sydney</td>\n",
       "    </tr>\n",
       "    <tr>\n",
       "      <th>2</th>\n",
       "      <td>darwin</td>\n",
       "    </tr>\n",
       "    <tr>\n",
       "      <th>3</th>\n",
       "      <td>brisbane</td>\n",
       "    </tr>\n",
       "    <tr>\n",
       "      <th>4</th>\n",
       "      <td>adelaide</td>\n",
       "    </tr>\n",
       "  </tbody>\n",
       "</table>\n",
       "</div>"
      ],
      "text/plain": [
       "  city_name\n",
       "0  canberra\n",
       "1    sydney\n",
       "2    darwin\n",
       "3  brisbane\n",
       "4  adelaide"
      ]
     },
     "execution_count": 14,
     "metadata": {},
     "output_type": "execute_result"
    }
   ],
   "source": [
    "# read list of cities\n",
    "df_cities = pd.read_csv(\"data/australian_capital_cities.csv\")\n",
    "df_cities.head()"
   ]
  },
  {
   "cell_type": "code",
   "execution_count": 15,
   "metadata": {},
   "outputs": [],
   "source": [
    "# request data for each city (json) and push to a list \n",
    "weather_data = []\n",
    "for city_name in df_cities[\"city_name\"]:\n",
    "    params = {\n",
    "        \"q\": city_name,\n",
    "        \"units\": \"metric\",\n",
    "        \"appid\": api_key\n",
    "    }\n",
    "    response = requests.get(f\"http://api.openweathermap.org/data/2.5/weather\", params=params)\n",
    "    if response.status_code == 200: \n",
    "        weather_data.append(response.json())\n",
    "    else: \n",
    "        raise Exception(\"Extracting weather api data failed. Please check if API limits have been reached.\")"
   ]
  },
  {
   "cell_type": "code",
   "execution_count": 16,
   "metadata": {},
   "outputs": [
    {
     "data": {
      "text/html": [
       "<div>\n",
       "<style scoped>\n",
       "    .dataframe tbody tr th:only-of-type {\n",
       "        vertical-align: middle;\n",
       "    }\n",
       "\n",
       "    .dataframe tbody tr th {\n",
       "        vertical-align: top;\n",
       "    }\n",
       "\n",
       "    .dataframe thead th {\n",
       "        text-align: right;\n",
       "    }\n",
       "</style>\n",
       "<table border=\"1\" class=\"dataframe\">\n",
       "  <thead>\n",
       "    <tr style=\"text-align: right;\">\n",
       "      <th></th>\n",
       "      <th>coord</th>\n",
       "      <th>weather</th>\n",
       "      <th>base</th>\n",
       "      <th>main</th>\n",
       "      <th>visibility</th>\n",
       "      <th>wind</th>\n",
       "      <th>clouds</th>\n",
       "      <th>dt</th>\n",
       "      <th>sys</th>\n",
       "      <th>timezone</th>\n",
       "      <th>id</th>\n",
       "      <th>name</th>\n",
       "      <th>cod</th>\n",
       "    </tr>\n",
       "  </thead>\n",
       "  <tbody>\n",
       "    <tr>\n",
       "      <th>0</th>\n",
       "      <td>{'lon': 149.1281, 'lat': -35.2835}</td>\n",
       "      <td>[{'id': 804, 'main': 'Clouds', 'description': ...</td>\n",
       "      <td>stations</td>\n",
       "      <td>{'temp': 7.88, 'feels_like': 5.92, 'temp_min':...</td>\n",
       "      <td>10000</td>\n",
       "      <td>{'speed': 3.07, 'deg': 105, 'gust': 6.51}</td>\n",
       "      <td>{'all': 88}</td>\n",
       "      <td>1663058559</td>\n",
       "      <td>{'type': 2, 'id': 2006597, 'country': 'AU', 's...</td>\n",
       "      <td>36000</td>\n",
       "      <td>2172517</td>\n",
       "      <td>Canberra</td>\n",
       "      <td>200</td>\n",
       "    </tr>\n",
       "    <tr>\n",
       "      <th>1</th>\n",
       "      <td>{'lon': 151.2073, 'lat': -33.8679}</td>\n",
       "      <td>[{'id': 802, 'main': 'Clouds', 'description': ...</td>\n",
       "      <td>stations</td>\n",
       "      <td>{'temp': 13.25, 'feels_like': 12.3, 'temp_min'...</td>\n",
       "      <td>10000</td>\n",
       "      <td>{'speed': 6.17, 'deg': 170}</td>\n",
       "      <td>{'all': 40}</td>\n",
       "      <td>1663058252</td>\n",
       "      <td>{'type': 2, 'id': 2002865, 'country': 'AU', 's...</td>\n",
       "      <td>36000</td>\n",
       "      <td>2147714</td>\n",
       "      <td>Sydney</td>\n",
       "      <td>200</td>\n",
       "    </tr>\n",
       "    <tr>\n",
       "      <th>2</th>\n",
       "      <td>{'lon': 130.8418, 'lat': -12.4611}</td>\n",
       "      <td>[{'id': 801, 'main': 'Clouds', 'description': ...</td>\n",
       "      <td>stations</td>\n",
       "      <td>{'temp': 31.75, 'feels_like': 34.14, 'temp_min...</td>\n",
       "      <td>10000</td>\n",
       "      <td>{'speed': 5.14, 'deg': 20}</td>\n",
       "      <td>{'all': 20}</td>\n",
       "      <td>1663058428</td>\n",
       "      <td>{'type': 1, 'id': 9574, 'country': 'AU', 'sunr...</td>\n",
       "      <td>34200</td>\n",
       "      <td>2073124</td>\n",
       "      <td>Darwin</td>\n",
       "      <td>200</td>\n",
       "    </tr>\n",
       "    <tr>\n",
       "      <th>3</th>\n",
       "      <td>{'lon': 153.0281, 'lat': -27.4679}</td>\n",
       "      <td>[{'id': 801, 'main': 'Clouds', 'description': ...</td>\n",
       "      <td>stations</td>\n",
       "      <td>{'temp': 18.01, 'feels_like': 17.8, 'temp_min'...</td>\n",
       "      <td>10000</td>\n",
       "      <td>{'speed': 5.14, 'deg': 130}</td>\n",
       "      <td>{'all': 20}</td>\n",
       "      <td>1663058312</td>\n",
       "      <td>{'type': 2, 'id': 2005393, 'country': 'AU', 's...</td>\n",
       "      <td>36000</td>\n",
       "      <td>2174003</td>\n",
       "      <td>Brisbane</td>\n",
       "      <td>200</td>\n",
       "    </tr>\n",
       "    <tr>\n",
       "      <th>4</th>\n",
       "      <td>{'lon': 138.6, 'lat': -34.9333}</td>\n",
       "      <td>[{'id': 800, 'main': 'Clear', 'description': '...</td>\n",
       "      <td>stations</td>\n",
       "      <td>{'temp': 19.71, 'feels_like': 19.09, 'temp_min...</td>\n",
       "      <td>10000</td>\n",
       "      <td>{'speed': 7.2, 'deg': 50}</td>\n",
       "      <td>{'all': 0}</td>\n",
       "      <td>1663058242</td>\n",
       "      <td>{'type': 1, 'id': 9566, 'country': 'AU', 'sunr...</td>\n",
       "      <td>34200</td>\n",
       "      <td>2078025</td>\n",
       "      <td>Adelaide</td>\n",
       "      <td>200</td>\n",
       "    </tr>\n",
       "  </tbody>\n",
       "</table>\n",
       "</div>"
      ],
      "text/plain": [
       "                                coord  \\\n",
       "0  {'lon': 149.1281, 'lat': -35.2835}   \n",
       "1  {'lon': 151.2073, 'lat': -33.8679}   \n",
       "2  {'lon': 130.8418, 'lat': -12.4611}   \n",
       "3  {'lon': 153.0281, 'lat': -27.4679}   \n",
       "4     {'lon': 138.6, 'lat': -34.9333}   \n",
       "\n",
       "                                             weather      base  \\\n",
       "0  [{'id': 804, 'main': 'Clouds', 'description': ...  stations   \n",
       "1  [{'id': 802, 'main': 'Clouds', 'description': ...  stations   \n",
       "2  [{'id': 801, 'main': 'Clouds', 'description': ...  stations   \n",
       "3  [{'id': 801, 'main': 'Clouds', 'description': ...  stations   \n",
       "4  [{'id': 800, 'main': 'Clear', 'description': '...  stations   \n",
       "\n",
       "                                                main  visibility  \\\n",
       "0  {'temp': 7.88, 'feels_like': 5.92, 'temp_min':...       10000   \n",
       "1  {'temp': 13.25, 'feels_like': 12.3, 'temp_min'...       10000   \n",
       "2  {'temp': 31.75, 'feels_like': 34.14, 'temp_min...       10000   \n",
       "3  {'temp': 18.01, 'feels_like': 17.8, 'temp_min'...       10000   \n",
       "4  {'temp': 19.71, 'feels_like': 19.09, 'temp_min...       10000   \n",
       "\n",
       "                                        wind       clouds          dt  \\\n",
       "0  {'speed': 3.07, 'deg': 105, 'gust': 6.51}  {'all': 88}  1663058559   \n",
       "1                {'speed': 6.17, 'deg': 170}  {'all': 40}  1663058252   \n",
       "2                 {'speed': 5.14, 'deg': 20}  {'all': 20}  1663058428   \n",
       "3                {'speed': 5.14, 'deg': 130}  {'all': 20}  1663058312   \n",
       "4                  {'speed': 7.2, 'deg': 50}   {'all': 0}  1663058242   \n",
       "\n",
       "                                                 sys  timezone       id  \\\n",
       "0  {'type': 2, 'id': 2006597, 'country': 'AU', 's...     36000  2172517   \n",
       "1  {'type': 2, 'id': 2002865, 'country': 'AU', 's...     36000  2147714   \n",
       "2  {'type': 1, 'id': 9574, 'country': 'AU', 'sunr...     34200  2073124   \n",
       "3  {'type': 2, 'id': 2005393, 'country': 'AU', 's...     36000  2174003   \n",
       "4  {'type': 1, 'id': 9566, 'country': 'AU', 'sunr...     34200  2078025   \n",
       "\n",
       "       name  cod  \n",
       "0  Canberra  200  \n",
       "1    Sydney  200  \n",
       "2    Darwin  200  \n",
       "3  Brisbane  200  \n",
       "4  Adelaide  200  "
      ]
     },
     "execution_count": 16,
     "metadata": {},
     "output_type": "execute_result"
    }
   ],
   "source": [
    "# read data into a dataframe to create a consistent schema \n",
    "df = pd.json_normalize(weather_data, max_level=0)\n",
    "df.head()"
   ]
  },
  {
   "cell_type": "markdown",
   "metadata": {},
   "source": [
    "Load data"
   ]
  },
  {
   "cell_type": "code",
   "execution_count": 17,
   "metadata": {},
   "outputs": [],
   "source": [
    "from sqlalchemy import create_engine, Table, Column, Integer, String, MetaData, Float, JSON # https://www.tutorialspoint.com/sqlalchemy/sqlalchemy_core_creating_table.htm\n",
    "from sqlalchemy.engine import URL\n",
    "from sqlalchemy.dialects import postgresql\n",
    "from secrets_config import db_user, db_password, db_server_name, db_database_name"
   ]
  },
  {
   "cell_type": "code",
   "execution_count": 18,
   "metadata": {},
   "outputs": [],
   "source": [
    "# create connection to database \n",
    "connection_url = URL.create(\n",
    "    drivername = \"postgresql+pg8000\", \n",
    "    username = db_user,\n",
    "    password = db_password,\n",
    "    host = db_server_name, \n",
    "    port = 5432,\n",
    "    database = db_database_name, \n",
    ")\n",
    "\n",
    "engine = create_engine(connection_url)"
   ]
  },
  {
   "cell_type": "code",
   "execution_count": 19,
   "metadata": {},
   "outputs": [],
   "source": [
    "# specify target table schema \n",
    "raw_table = \"raw_weather\"\n",
    "\n",
    "meta = MetaData()\n",
    "weather_table = Table(\n",
    "    raw_table, meta, \n",
    "    Column(\"dt\", Integer, primary_key=True),\n",
    "    Column(\"id\", Integer, primary_key=True),\n",
    "    Column(\"coord\", JSON),\n",
    "    Column(\"weather\", JSON),\n",
    "    Column(\"base\", String),\n",
    "    Column(\"main\", JSON),\n",
    "    Column(\"visibility\", Integer),\n",
    "    Column(\"rain\", String),\n",
    "    Column(\"wind\", JSON),\n",
    "    Column(\"clouds\", JSON),\n",
    "    Column(\"sys\", JSON),\n",
    "    Column(\"timezone\", Integer),\n",
    "    Column(\"name\", String),\n",
    "    Column(\"cod\", Integer)\n",
    ")\n",
    "meta.create_all(engine) # creates table if it does not exist "
   ]
  },
  {
   "cell_type": "code",
   "execution_count": 20,
   "metadata": {},
   "outputs": [
    {
     "data": {
      "text/plain": [
       "<sqlalchemy.engine.cursor.LegacyCursorResult at 0x7f9b40fcc940>"
      ]
     },
     "execution_count": 20,
     "metadata": {},
     "output_type": "execute_result"
    }
   ],
   "source": [
    "insert_statement = postgresql.insert(weather_table).values(df.to_dict(orient='records'))\n",
    "upsert_statement = insert_statement.on_conflict_do_update(\n",
    "    index_elements=['id', 'dt'],\n",
    "    set_={c.key: c for c in insert_statement.excluded if c.key not in ['id', 'dt']})\n",
    "engine.execute(upsert_statement)"
   ]
  },
  {
   "cell_type": "markdown",
   "metadata": {},
   "source": [
    "Transform data (SQL)"
   ]
  },
  {
   "cell_type": "code",
   "execution_count": 21,
   "metadata": {},
   "outputs": [
    {
     "name": "stdout",
     "output_type": "stream",
     "text": [
      "drop table if exists {{ target_table }}; \n",
      "\n",
      "-- create table as \n",
      "create table {{ target_table }} as (\n",
      "    select \n",
      "        to_timestamp(dt) as datetime, \n",
      "        id, \n",
      "        name, \n",
      "        cast(coord ->> 'lon' as numeric) as lon,\n",
      "        cast(coord ->> 'lat' as numeric) as lat,\n",
      "        weather -> 0 ->> 'main' as weather_main,\n",
      "        weather -> 0 ->> 'description' as weather_description,\n",
      "        base, \n",
      "        cast(main ->> 'temp' as numeric) as temperature,\n",
      "        cast(main ->> 'pressure' as numeric) as pressure,\n",
      "        cast(main ->> 'humidity' as numeric) as humidity,\n",
      "        cast(clouds ->> 'all' as numeric) as clouds\n",
      "    from raw_weather\n",
      "); \n",
      "\n"
     ]
    }
   ],
   "source": [
    "target_table = \"staging_weather\"\n",
    "\n",
    "with open(f\"models/{target_table}.sql\") as f: \n",
    "    raw_sql = f.read()\n",
    "print(raw_sql)"
   ]
  },
  {
   "cell_type": "code",
   "execution_count": 22,
   "metadata": {},
   "outputs": [],
   "source": [
    "parsed_sql = j2.Template(raw_sql).render(target_table = target_table)"
   ]
  },
  {
   "cell_type": "code",
   "execution_count": 23,
   "metadata": {},
   "outputs": [
    {
     "data": {
      "text/plain": [
       "<sqlalchemy.engine.cursor.LegacyCursorResult at 0x7f9b3e2635e0>"
      ]
     },
     "execution_count": 23,
     "metadata": {},
     "output_type": "execute_result"
    }
   ],
   "source": [
    "engine.execute(parsed_sql)"
   ]
  },
  {
   "cell_type": "code",
   "execution_count": null,
   "metadata": {},
   "outputs": [],
   "source": []
  }
 ],
 "metadata": {
  "kernelspec": {
   "display_name": "Python 3.9.13 ('bootcamp')",
   "language": "python",
   "name": "python3"
  },
  "language_info": {
   "codemirror_mode": {
    "name": "ipython",
    "version": 3
   },
   "file_extension": ".py",
   "mimetype": "text/x-python",
   "name": "python",
   "nbconvert_exporter": "python",
   "pygments_lexer": "ipython3",
   "version": "3.9.13"
  },
  "orig_nbformat": 4,
  "vscode": {
   "interpreter": {
    "hash": "3092abee17d2c8bf43a3a441f85ca7f44fbdfa77b296ab0ef13df97169790f39"
   }
  }
 },
 "nbformat": 4,
 "nbformat_minor": 2
}
