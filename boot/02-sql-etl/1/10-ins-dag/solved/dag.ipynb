{
 "cells": [
  {
   "cell_type": "code",
   "execution_count": 5,
   "metadata": {},
   "outputs": [],
   "source": [
    "from graphlib import TopologicalSorter"
   ]
  },
  {
   "cell_type": "code",
   "execution_count": 9,
   "metadata": {},
   "outputs": [
    {
     "name": "stdout",
     "output_type": "stream",
     "text": [
      "('A', 'B', 'C', 'E', 'D')\n"
     ]
    }
   ],
   "source": [
    "# correct - DAG\n",
    "ts = TopologicalSorter()\n",
    "ts.add(\"A\")\n",
    "ts.add(\"B\", \"A\")\n",
    "ts.add(\"C\", \"B\")\n",
    "ts.add(\"D\", \"A\", \"B\", \"C\")\n",
    "ts.add(\"E\", \"B\")\n",
    "print(tuple(ts.static_order()))"
   ]
  },
  {
   "cell_type": "code",
   "execution_count": 7,
   "metadata": {},
   "outputs": [
    {
     "ename": "CycleError",
     "evalue": "('nodes are in a cycle', ['A', 'B', 'A'])",
     "output_type": "error",
     "traceback": [
      "\u001b[0;31m---------------------------------------------------------------------------\u001b[0m",
      "\u001b[0;31mCycleError\u001b[0m                                Traceback (most recent call last)",
      "\u001b[1;32m/Users/jonathanneo/code/data-engineer-camp/data-engineering-bootcamp/02-sql-etl/1/10-ins-dag/solved/dag.ipynb Cell 3'\u001b[0m in \u001b[0;36m<cell line: 6>\u001b[0;34m()\u001b[0m\n\u001b[1;32m      <a href='vscode-notebook-cell:/Users/jonathanneo/code/data-engineer-camp/data-engineering-bootcamp/02-sql-etl/1/10-ins-dag/solved/dag.ipynb#ch0000003?line=3'>4</a>\u001b[0m ts\u001b[39m.\u001b[39madd(\u001b[39m\"\u001b[39m\u001b[39mB\u001b[39m\u001b[39m\"\u001b[39m, \u001b[39m\"\u001b[39m\u001b[39mA\u001b[39m\u001b[39m\"\u001b[39m)\n\u001b[1;32m      <a href='vscode-notebook-cell:/Users/jonathanneo/code/data-engineer-camp/data-engineering-bootcamp/02-sql-etl/1/10-ins-dag/solved/dag.ipynb#ch0000003?line=4'>5</a>\u001b[0m ts\u001b[39m.\u001b[39madd(\u001b[39m\"\u001b[39m\u001b[39mA\u001b[39m\u001b[39m\"\u001b[39m, \u001b[39m\"\u001b[39m\u001b[39mB\u001b[39m\u001b[39m\"\u001b[39m)\n\u001b[0;32m----> <a href='vscode-notebook-cell:/Users/jonathanneo/code/data-engineer-camp/data-engineering-bootcamp/02-sql-etl/1/10-ins-dag/solved/dag.ipynb#ch0000003?line=5'>6</a>\u001b[0m \u001b[39mprint\u001b[39m(\u001b[39mtuple\u001b[39;49m(ts\u001b[39m.\u001b[39;49mstatic_order()))\n",
      "File \u001b[0;32m~/opt/anaconda3/envs/dec/lib/python3.9/graphlib.py:242\u001b[0m, in \u001b[0;36mTopologicalSorter.static_order\u001b[0;34m(self)\u001b[0m\n\u001b[1;32m    <a href='file:///Users/jonathanneo/opt/anaconda3/envs/dec/lib/python3.9/graphlib.py?line=232'>233</a>\u001b[0m \u001b[39mdef\u001b[39;00m \u001b[39mstatic_order\u001b[39m(\u001b[39mself\u001b[39m):\n\u001b[1;32m    <a href='file:///Users/jonathanneo/opt/anaconda3/envs/dec/lib/python3.9/graphlib.py?line=233'>234</a>\u001b[0m     \u001b[39m\"\"\"Returns an iterable of nodes in a topological order.\u001b[39;00m\n\u001b[1;32m    <a href='file:///Users/jonathanneo/opt/anaconda3/envs/dec/lib/python3.9/graphlib.py?line=234'>235</a>\u001b[0m \n\u001b[1;32m    <a href='file:///Users/jonathanneo/opt/anaconda3/envs/dec/lib/python3.9/graphlib.py?line=235'>236</a>\u001b[0m \u001b[39m    The particular order that is returned may depend on the specific\u001b[39;00m\n\u001b[0;32m   (...)\u001b[0m\n\u001b[1;32m    <a href='file:///Users/jonathanneo/opt/anaconda3/envs/dec/lib/python3.9/graphlib.py?line=239'>240</a>\u001b[0m \u001b[39m    cycle is detected, :exc:`CycleError` will be raised.\u001b[39;00m\n\u001b[1;32m    <a href='file:///Users/jonathanneo/opt/anaconda3/envs/dec/lib/python3.9/graphlib.py?line=240'>241</a>\u001b[0m \u001b[39m    \"\"\"\u001b[39;00m\n\u001b[0;32m--> <a href='file:///Users/jonathanneo/opt/anaconda3/envs/dec/lib/python3.9/graphlib.py?line=241'>242</a>\u001b[0m     \u001b[39mself\u001b[39;49m\u001b[39m.\u001b[39;49mprepare()\n\u001b[1;32m    <a href='file:///Users/jonathanneo/opt/anaconda3/envs/dec/lib/python3.9/graphlib.py?line=242'>243</a>\u001b[0m     \u001b[39mwhile\u001b[39;00m \u001b[39mself\u001b[39m\u001b[39m.\u001b[39mis_active():\n\u001b[1;32m    <a href='file:///Users/jonathanneo/opt/anaconda3/envs/dec/lib/python3.9/graphlib.py?line=243'>244</a>\u001b[0m         node_group \u001b[39m=\u001b[39m \u001b[39mself\u001b[39m\u001b[39m.\u001b[39mget_ready()\n",
      "File \u001b[0;32m~/opt/anaconda3/envs/dec/lib/python3.9/graphlib.py:104\u001b[0m, in \u001b[0;36mTopologicalSorter.prepare\u001b[0;34m(self)\u001b[0m\n\u001b[1;32m    <a href='file:///Users/jonathanneo/opt/anaconda3/envs/dec/lib/python3.9/graphlib.py?line=101'>102</a>\u001b[0m cycle \u001b[39m=\u001b[39m \u001b[39mself\u001b[39m\u001b[39m.\u001b[39m_find_cycle()\n\u001b[1;32m    <a href='file:///Users/jonathanneo/opt/anaconda3/envs/dec/lib/python3.9/graphlib.py?line=102'>103</a>\u001b[0m \u001b[39mif\u001b[39;00m cycle:\n\u001b[0;32m--> <a href='file:///Users/jonathanneo/opt/anaconda3/envs/dec/lib/python3.9/graphlib.py?line=103'>104</a>\u001b[0m     \u001b[39mraise\u001b[39;00m CycleError(\u001b[39mf\u001b[39m\u001b[39m\"\u001b[39m\u001b[39mnodes are in a cycle\u001b[39m\u001b[39m\"\u001b[39m, cycle)\n",
      "\u001b[0;31mCycleError\u001b[0m: ('nodes are in a cycle', ['A', 'B', 'A'])"
     ]
    }
   ],
   "source": [
    "# incorrect - DAG (cyclical)\n",
    "ts = TopologicalSorter()\n",
    "ts.add(\"A\")\n",
    "ts.add(\"B\", \"A\")\n",
    "ts.add(\"A\", \"B\")\n",
    "print(tuple(ts.static_order()))"
   ]
  },
  {
   "cell_type": "code",
   "execution_count": null,
   "metadata": {},
   "outputs": [],
   "source": []
  }
 ],
 "metadata": {
  "interpreter": {
   "hash": "ec7476cd5298a73f69e8eecc398cdeac6e308767034e2d84faebe029453106ad"
  },
  "kernelspec": {
   "display_name": "Python 3.9.12 ('dec')",
   "language": "python",
   "name": "python3"
  },
  "language_info": {
   "codemirror_mode": {
    "name": "ipython",
    "version": 3
   },
   "file_extension": ".py",
   "mimetype": "text/x-python",
   "name": "python",
   "nbconvert_exporter": "python",
   "pygments_lexer": "ipython3",
   "version": "3.9.12"
  },
  "orig_nbformat": 4
 },
 "nbformat": 4,
 "nbformat_minor": 2
}
