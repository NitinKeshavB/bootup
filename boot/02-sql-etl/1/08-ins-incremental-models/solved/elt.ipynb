{
 "cells": [
  {
   "cell_type": "code",
   "execution_count": 27,
   "metadata": {},
   "outputs": [],
   "source": [
    "import pandas as pd \n",
    "import requests \n",
    "from secrets_config import api_key\n",
    "import jinja2 as j2"
   ]
  },
  {
   "cell_type": "markdown",
   "metadata": {},
   "source": [
    "Extract data"
   ]
  },
  {
   "cell_type": "code",
   "execution_count": 28,
   "metadata": {},
   "outputs": [
    {
     "data": {
      "text/html": [
       "<div>\n",
       "<style scoped>\n",
       "    .dataframe tbody tr th:only-of-type {\n",
       "        vertical-align: middle;\n",
       "    }\n",
       "\n",
       "    .dataframe tbody tr th {\n",
       "        vertical-align: top;\n",
       "    }\n",
       "\n",
       "    .dataframe thead th {\n",
       "        text-align: right;\n",
       "    }\n",
       "</style>\n",
       "<table border=\"1\" class=\"dataframe\">\n",
       "  <thead>\n",
       "    <tr style=\"text-align: right;\">\n",
       "      <th></th>\n",
       "      <th>city_name</th>\n",
       "    </tr>\n",
       "  </thead>\n",
       "  <tbody>\n",
       "    <tr>\n",
       "      <th>0</th>\n",
       "      <td>canberra</td>\n",
       "    </tr>\n",
       "    <tr>\n",
       "      <th>1</th>\n",
       "      <td>sydney</td>\n",
       "    </tr>\n",
       "    <tr>\n",
       "      <th>2</th>\n",
       "      <td>darwin</td>\n",
       "    </tr>\n",
       "    <tr>\n",
       "      <th>3</th>\n",
       "      <td>brisbane</td>\n",
       "    </tr>\n",
       "    <tr>\n",
       "      <th>4</th>\n",
       "      <td>adelaide</td>\n",
       "    </tr>\n",
       "  </tbody>\n",
       "</table>\n",
       "</div>"
      ],
      "text/plain": [
       "  city_name\n",
       "0  canberra\n",
       "1    sydney\n",
       "2    darwin\n",
       "3  brisbane\n",
       "4  adelaide"
      ]
     },
     "execution_count": 28,
     "metadata": {},
     "output_type": "execute_result"
    }
   ],
   "source": [
    "# read list of cities\n",
    "df_cities = pd.read_csv(\"data/australian_capital_cities.csv\")\n",
    "df_cities.head()"
   ]
  },
  {
   "cell_type": "code",
   "execution_count": 29,
   "metadata": {},
   "outputs": [],
   "source": [
    "# request data for each city (json) and push to a list \n",
    "weather_data = []\n",
    "for city_name in df_cities[\"city_name\"]:\n",
    "    params = {\n",
    "        \"q\": city_name,\n",
    "        \"units\": \"metric\",\n",
    "        \"appid\": api_key\n",
    "    }\n",
    "    response = requests.get(f\"http://api.openweathermap.org/data/2.5/weather\", params=params)\n",
    "    if response.status_code == 200: \n",
    "        weather_data.append(response.json())\n",
    "    else: \n",
    "        raise Exception(\"Extracting weather api data failed. Please check if API limits have been reached.\")"
   ]
  },
  {
   "cell_type": "code",
   "execution_count": 30,
   "metadata": {},
   "outputs": [
    {
     "data": {
      "text/html": [
       "<div>\n",
       "<style scoped>\n",
       "    .dataframe tbody tr th:only-of-type {\n",
       "        vertical-align: middle;\n",
       "    }\n",
       "\n",
       "    .dataframe tbody tr th {\n",
       "        vertical-align: top;\n",
       "    }\n",
       "\n",
       "    .dataframe thead th {\n",
       "        text-align: right;\n",
       "    }\n",
       "</style>\n",
       "<table border=\"1\" class=\"dataframe\">\n",
       "  <thead>\n",
       "    <tr style=\"text-align: right;\">\n",
       "      <th></th>\n",
       "      <th>coord</th>\n",
       "      <th>weather</th>\n",
       "      <th>base</th>\n",
       "      <th>main</th>\n",
       "      <th>visibility</th>\n",
       "      <th>wind</th>\n",
       "      <th>clouds</th>\n",
       "      <th>dt</th>\n",
       "      <th>sys</th>\n",
       "      <th>timezone</th>\n",
       "      <th>id</th>\n",
       "      <th>name</th>\n",
       "      <th>cod</th>\n",
       "      <th>rain</th>\n",
       "    </tr>\n",
       "  </thead>\n",
       "  <tbody>\n",
       "    <tr>\n",
       "      <th>0</th>\n",
       "      <td>{'lon': 149.1281, 'lat': -35.2835}</td>\n",
       "      <td>[{'id': 803, 'main': 'Clouds', 'description': ...</td>\n",
       "      <td>stations</td>\n",
       "      <td>{'temp': 7.02, 'feels_like': 5.24, 'temp_min':...</td>\n",
       "      <td>10000</td>\n",
       "      <td>{'speed': 2.57, 'deg': 130}</td>\n",
       "      <td>{'all': 75}</td>\n",
       "      <td>1658496230</td>\n",
       "      <td>{'type': 2, 'id': 2004200, 'country': 'AU', 's...</td>\n",
       "      <td>36000</td>\n",
       "      <td>2172517</td>\n",
       "      <td>Canberra</td>\n",
       "      <td>200</td>\n",
       "      <td>NaN</td>\n",
       "    </tr>\n",
       "    <tr>\n",
       "      <th>1</th>\n",
       "      <td>{'lon': 151.2073, 'lat': -33.8679}</td>\n",
       "      <td>[{'id': 500, 'main': 'Rain', 'description': 'l...</td>\n",
       "      <td>stations</td>\n",
       "      <td>{'temp': 12.25, 'feels_like': 11.91, 'temp_min...</td>\n",
       "      <td>10000</td>\n",
       "      <td>{'speed': 5.66, 'deg': 110}</td>\n",
       "      <td>{'all': 40}</td>\n",
       "      <td>1658496121</td>\n",
       "      <td>{'type': 2, 'id': 2002865, 'country': 'AU', 's...</td>\n",
       "      <td>36000</td>\n",
       "      <td>2147714</td>\n",
       "      <td>Sydney</td>\n",
       "      <td>200</td>\n",
       "      <td>{'1h': 0.16}</td>\n",
       "    </tr>\n",
       "    <tr>\n",
       "      <th>2</th>\n",
       "      <td>{'lon': 130.8418, 'lat': -12.4611}</td>\n",
       "      <td>[{'id': 800, 'main': 'Clear', 'description': '...</td>\n",
       "      <td>stations</td>\n",
       "      <td>{'temp': 19.43, 'feels_like': 19.33, 'temp_min...</td>\n",
       "      <td>10000</td>\n",
       "      <td>{'speed': 2.06, 'deg': 190}</td>\n",
       "      <td>{'all': 0}</td>\n",
       "      <td>1658495970</td>\n",
       "      <td>{'type': 1, 'id': 9574, 'country': 'AU', 'sunr...</td>\n",
       "      <td>34200</td>\n",
       "      <td>2073124</td>\n",
       "      <td>Darwin</td>\n",
       "      <td>200</td>\n",
       "      <td>NaN</td>\n",
       "    </tr>\n",
       "    <tr>\n",
       "      <th>3</th>\n",
       "      <td>{'lon': 153.0281, 'lat': -27.4679}</td>\n",
       "      <td>[{'id': 803, 'main': 'Clouds', 'description': ...</td>\n",
       "      <td>stations</td>\n",
       "      <td>{'temp': 15.29, 'feels_like': 15.12, 'temp_min...</td>\n",
       "      <td>10000</td>\n",
       "      <td>{'speed': 5.66, 'deg': 190}</td>\n",
       "      <td>{'all': 75}</td>\n",
       "      <td>1658495587</td>\n",
       "      <td>{'type': 2, 'id': 2005393, 'country': 'AU', 's...</td>\n",
       "      <td>36000</td>\n",
       "      <td>2174003</td>\n",
       "      <td>Brisbane</td>\n",
       "      <td>200</td>\n",
       "      <td>NaN</td>\n",
       "    </tr>\n",
       "    <tr>\n",
       "      <th>4</th>\n",
       "      <td>{'lon': 138.6, 'lat': -34.9333}</td>\n",
       "      <td>[{'id': 500, 'main': 'Rain', 'description': 'l...</td>\n",
       "      <td>stations</td>\n",
       "      <td>{'temp': 13.79, 'feels_like': 13.08, 'temp_min...</td>\n",
       "      <td>10000</td>\n",
       "      <td>{'speed': 3.6, 'deg': 40}</td>\n",
       "      <td>{'all': 100}</td>\n",
       "      <td>1658496052</td>\n",
       "      <td>{'type': 2, 'id': 2001763, 'country': 'AU', 's...</td>\n",
       "      <td>34200</td>\n",
       "      <td>2078025</td>\n",
       "      <td>Adelaide</td>\n",
       "      <td>200</td>\n",
       "      <td>{'1h': 0.41}</td>\n",
       "    </tr>\n",
       "  </tbody>\n",
       "</table>\n",
       "</div>"
      ],
      "text/plain": [
       "                                coord  \\\n",
       "0  {'lon': 149.1281, 'lat': -35.2835}   \n",
       "1  {'lon': 151.2073, 'lat': -33.8679}   \n",
       "2  {'lon': 130.8418, 'lat': -12.4611}   \n",
       "3  {'lon': 153.0281, 'lat': -27.4679}   \n",
       "4     {'lon': 138.6, 'lat': -34.9333}   \n",
       "\n",
       "                                             weather      base  \\\n",
       "0  [{'id': 803, 'main': 'Clouds', 'description': ...  stations   \n",
       "1  [{'id': 500, 'main': 'Rain', 'description': 'l...  stations   \n",
       "2  [{'id': 800, 'main': 'Clear', 'description': '...  stations   \n",
       "3  [{'id': 803, 'main': 'Clouds', 'description': ...  stations   \n",
       "4  [{'id': 500, 'main': 'Rain', 'description': 'l...  stations   \n",
       "\n",
       "                                                main  visibility  \\\n",
       "0  {'temp': 7.02, 'feels_like': 5.24, 'temp_min':...       10000   \n",
       "1  {'temp': 12.25, 'feels_like': 11.91, 'temp_min...       10000   \n",
       "2  {'temp': 19.43, 'feels_like': 19.33, 'temp_min...       10000   \n",
       "3  {'temp': 15.29, 'feels_like': 15.12, 'temp_min...       10000   \n",
       "4  {'temp': 13.79, 'feels_like': 13.08, 'temp_min...       10000   \n",
       "\n",
       "                          wind        clouds          dt  \\\n",
       "0  {'speed': 2.57, 'deg': 130}   {'all': 75}  1658496230   \n",
       "1  {'speed': 5.66, 'deg': 110}   {'all': 40}  1658496121   \n",
       "2  {'speed': 2.06, 'deg': 190}    {'all': 0}  1658495970   \n",
       "3  {'speed': 5.66, 'deg': 190}   {'all': 75}  1658495587   \n",
       "4    {'speed': 3.6, 'deg': 40}  {'all': 100}  1658496052   \n",
       "\n",
       "                                                 sys  timezone       id  \\\n",
       "0  {'type': 2, 'id': 2004200, 'country': 'AU', 's...     36000  2172517   \n",
       "1  {'type': 2, 'id': 2002865, 'country': 'AU', 's...     36000  2147714   \n",
       "2  {'type': 1, 'id': 9574, 'country': 'AU', 'sunr...     34200  2073124   \n",
       "3  {'type': 2, 'id': 2005393, 'country': 'AU', 's...     36000  2174003   \n",
       "4  {'type': 2, 'id': 2001763, 'country': 'AU', 's...     34200  2078025   \n",
       "\n",
       "       name  cod          rain  \n",
       "0  Canberra  200           NaN  \n",
       "1    Sydney  200  {'1h': 0.16}  \n",
       "2    Darwin  200           NaN  \n",
       "3  Brisbane  200           NaN  \n",
       "4  Adelaide  200  {'1h': 0.41}  "
      ]
     },
     "execution_count": 30,
     "metadata": {},
     "output_type": "execute_result"
    }
   ],
   "source": [
    "# read data into a dataframe to create a consistent schema \n",
    "df = pd.json_normalize(weather_data, max_level=0)\n",
    "df.head()"
   ]
  },
  {
   "cell_type": "markdown",
   "metadata": {},
   "source": [
    "Load data"
   ]
  },
  {
   "cell_type": "code",
   "execution_count": 31,
   "metadata": {},
   "outputs": [],
   "source": [
    "from sqlalchemy import create_engine, Table, Column, Integer, String, MetaData, Float, JSON # https://www.tutorialspoint.com/sqlalchemy/sqlalchemy_core_creating_table.htm\n",
    "from sqlalchemy.engine import URL\n",
    "from sqlalchemy.dialects import postgresql\n",
    "from secrets_config import db_user, db_password, db_server_name, db_database_name"
   ]
  },
  {
   "cell_type": "code",
   "execution_count": 32,
   "metadata": {},
   "outputs": [],
   "source": [
    "# create connection to database \n",
    "connection_url = URL.create(\n",
    "    drivername = \"postgresql+pg8000\", \n",
    "    username = db_user,\n",
    "    password = db_password,\n",
    "    host = db_server_name, \n",
    "    port = 5432,\n",
    "    database = db_database_name, \n",
    ")\n",
    "\n",
    "engine = create_engine(connection_url)"
   ]
  },
  {
   "cell_type": "code",
   "execution_count": 33,
   "metadata": {},
   "outputs": [],
   "source": [
    "# specify target table schema \n",
    "raw_table = \"raw_weather\"\n",
    "\n",
    "meta = MetaData()\n",
    "weather_table = Table(\n",
    "    raw_table, meta, \n",
    "    Column(\"dt\", Integer, primary_key=True),\n",
    "    Column(\"id\", Integer, primary_key=True),\n",
    "    Column(\"coord\", JSON),\n",
    "    Column(\"weather\", JSON),\n",
    "    Column(\"base\", String),\n",
    "    Column(\"main\", JSON),\n",
    "    Column(\"visibility\", Integer),\n",
    "    Column(\"rain\", String),\n",
    "    Column(\"wind\", JSON),\n",
    "    Column(\"clouds\", JSON),\n",
    "    Column(\"sys\", JSON),\n",
    "    Column(\"timezone\", Integer),\n",
    "    Column(\"name\", String),\n",
    "    Column(\"cod\", Integer)\n",
    ")\n",
    "meta.create_all(engine) # creates table if it does not exist "
   ]
  },
  {
   "cell_type": "code",
   "execution_count": 34,
   "metadata": {},
   "outputs": [],
   "source": [
    "insert_statement = postgresql.insert(weather_table).values(df.to_dict(orient='records'))\n",
    "upsert_statement = insert_statement.on_conflict_do_update(\n",
    "    index_elements=['id', 'dt'],\n",
    "    set_={c.key: c for c in insert_statement.excluded if c.key not in ['id', 'dt']})\n",
    "with engine.connect() as connection: \n",
    "    connection.execute(upsert_statement)"
   ]
  },
  {
   "cell_type": "markdown",
   "metadata": {},
   "source": [
    "Transform data (SQL)"
   ]
  },
  {
   "cell_type": "code",
   "execution_count": 52,
   "metadata": {},
   "outputs": [],
   "source": [
    "import os \n",
    "import logging \n",
    "\n",
    "def build_model(model, engine, models_path=\"models\")->bool:\n",
    "    \"\"\"\n",
    "    Builds models with a matching file name in the models_path folder. \n",
    "    - `model`: the name of the model (without .sql)\n",
    "    - `models_path`: the path to the models directory containing the sql files. defaults to `models`\n",
    "    \"\"\"\n",
    "    logging.basicConfig(level=logging.INFO, format=\"[%(levelname)s][%(asctime)s]: %(message)s\")\n",
    "    \n",
    "    if f\"{model}.sql\" in os.listdir(models_path):\n",
    "        logging.info(f\"Building model: {model}\")\n",
    "    \n",
    "        # read sql contents into a variable \n",
    "        with open(f\"{models_path}/{model}.sql\") as f: \n",
    "            raw_sql = f.read()\n",
    "\n",
    "        # parse sql using jinja \n",
    "        parsed_sql = j2.Template(raw_sql).render(target_table = model, engine=engine)\n",
    "\n",
    "        # execute parsed sql \n",
    "        result = engine.execute(parsed_sql)\n",
    "        logging.info(f\"Successfully built model: {model}, rows inserted/updated: {result.rowcount}\")\n",
    "        return True \n",
    "    else: \n",
    "        logging.error(f\"Could not find model: {model}\")"
   ]
  },
  {
   "cell_type": "code",
   "execution_count": 55,
   "metadata": {},
   "outputs": [
    {
     "name": "stderr",
     "output_type": "stream",
     "text": [
      "[INFO][2022-07-22 22:03:36,419][1669441271.py]: Building model: staging_weather\n",
      "[INFO][2022-07-22 22:03:36,443][1669441271.py]: Successfully built model: staging_weather\n"
     ]
    },
    {
     "data": {
      "text/plain": [
       "True"
      ]
     },
     "execution_count": 55,
     "metadata": {},
     "output_type": "execute_result"
    }
   ],
   "source": [
    "build_model(model=\"staging_weather\", engine=engine, models_path=\"models/\")"
   ]
  },
  {
   "cell_type": "code",
   "execution_count": 56,
   "metadata": {},
   "outputs": [
    {
     "name": "stderr",
     "output_type": "stream",
     "text": [
      "[INFO][2022-07-22 22:03:37,821][1669441271.py]: Building model: serving_weather\n",
      "[INFO][2022-07-22 22:03:37,844][1669441271.py]: Successfully built model: serving_weather\n"
     ]
    },
    {
     "data": {
      "text/plain": [
       "True"
      ]
     },
     "execution_count": 56,
     "metadata": {},
     "output_type": "execute_result"
    }
   ],
   "source": [
    "build_model(model=\"serving_weather\", engine=engine, models_path=\"models/\")"
   ]
  },
  {
   "cell_type": "code",
   "execution_count": null,
   "metadata": {},
   "outputs": [],
   "source": []
  }
 ],
 "metadata": {
  "interpreter": {
   "hash": "ec7476cd5298a73f69e8eecc398cdeac6e308767034e2d84faebe029453106ad"
  },
  "kernelspec": {
   "display_name": "Python 3.9.12 ('dec')",
   "language": "python",
   "name": "python3"
  },
  "language_info": {
   "codemirror_mode": {
    "name": "ipython",
    "version": 3
   },
   "file_extension": ".py",
   "mimetype": "text/x-python",
   "name": "python",
   "nbconvert_exporter": "python",
   "pygments_lexer": "ipython3",
   "version": "3.9.12"
  },
  "orig_nbformat": 4
 },
 "nbformat": 4,
 "nbformat_minor": 2
}
