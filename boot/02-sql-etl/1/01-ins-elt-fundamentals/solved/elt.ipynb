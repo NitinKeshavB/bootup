{
 "cells": [
  {
   "cell_type": "code",
   "execution_count": 66,
   "metadata": {},
   "outputs": [],
   "source": [
    "import pandas as pd \n",
    "import requests \n",
    "from secrets_config import api_key"
   ]
  },
  {
   "cell_type": "markdown",
   "metadata": {},
   "source": [
    "Extract data"
   ]
  },
  {
   "cell_type": "code",
   "execution_count": 67,
   "metadata": {},
   "outputs": [
    {
     "data": {
      "text/html": [
       "<div>\n",
       "<style scoped>\n",
       "    .dataframe tbody tr th:only-of-type {\n",
       "        vertical-align: middle;\n",
       "    }\n",
       "\n",
       "    .dataframe tbody tr th {\n",
       "        vertical-align: top;\n",
       "    }\n",
       "\n",
       "    .dataframe thead th {\n",
       "        text-align: right;\n",
       "    }\n",
       "</style>\n",
       "<table border=\"1\" class=\"dataframe\">\n",
       "  <thead>\n",
       "    <tr style=\"text-align: right;\">\n",
       "      <th></th>\n",
       "      <th>city_name</th>\n",
       "    </tr>\n",
       "  </thead>\n",
       "  <tbody>\n",
       "    <tr>\n",
       "      <th>0</th>\n",
       "      <td>canberra</td>\n",
       "    </tr>\n",
       "    <tr>\n",
       "      <th>1</th>\n",
       "      <td>sydney</td>\n",
       "    </tr>\n",
       "    <tr>\n",
       "      <th>2</th>\n",
       "      <td>darwin</td>\n",
       "    </tr>\n",
       "    <tr>\n",
       "      <th>3</th>\n",
       "      <td>brisbane</td>\n",
       "    </tr>\n",
       "    <tr>\n",
       "      <th>4</th>\n",
       "      <td>adelaide</td>\n",
       "    </tr>\n",
       "  </tbody>\n",
       "</table>\n",
       "</div>"
      ],
      "text/plain": [
       "  city_name\n",
       "0  canberra\n",
       "1    sydney\n",
       "2    darwin\n",
       "3  brisbane\n",
       "4  adelaide"
      ]
     },
     "execution_count": 67,
     "metadata": {},
     "output_type": "execute_result"
    }
   ],
   "source": [
    "# read list of cities\n",
    "df_cities = pd.read_csv(\"data/australian_capital_cities.csv\")\n",
    "df_cities.head()"
   ]
  },
  {
   "cell_type": "code",
   "execution_count": 68,
   "metadata": {},
   "outputs": [],
   "source": [
    "# request data for each city (json) and push to a list \n",
    "weather_data = []\n",
    "for city_name in df_cities[\"city_name\"]:\n",
    "    params = {\n",
    "        \"q\": city_name,\n",
    "        \"units\": \"metric\",\n",
    "        \"appid\": api_key\n",
    "    }\n",
    "    response = requests.get(f\"http://api.openweathermap.org/data/2.5/weather\", params=params)\n",
    "    if response.status_code == 200: \n",
    "        weather_data.append(response.json())\n",
    "    else: \n",
    "        raise Exception(\"Extracting weather api data failed. Please check if API limits have been reached.\")"
   ]
  },
  {
   "cell_type": "code",
   "execution_count": 69,
   "metadata": {},
   "outputs": [
    {
     "data": {
      "text/html": [
       "<div>\n",
       "<style scoped>\n",
       "    .dataframe tbody tr th:only-of-type {\n",
       "        vertical-align: middle;\n",
       "    }\n",
       "\n",
       "    .dataframe tbody tr th {\n",
       "        vertical-align: top;\n",
       "    }\n",
       "\n",
       "    .dataframe thead th {\n",
       "        text-align: right;\n",
       "    }\n",
       "</style>\n",
       "<table border=\"1\" class=\"dataframe\">\n",
       "  <thead>\n",
       "    <tr style=\"text-align: right;\">\n",
       "      <th></th>\n",
       "      <th>coord</th>\n",
       "      <th>weather</th>\n",
       "      <th>base</th>\n",
       "      <th>main</th>\n",
       "      <th>visibility</th>\n",
       "      <th>wind</th>\n",
       "      <th>clouds</th>\n",
       "      <th>dt</th>\n",
       "      <th>sys</th>\n",
       "      <th>timezone</th>\n",
       "      <th>id</th>\n",
       "      <th>name</th>\n",
       "      <th>cod</th>\n",
       "      <th>rain</th>\n",
       "    </tr>\n",
       "  </thead>\n",
       "  <tbody>\n",
       "    <tr>\n",
       "      <th>0</th>\n",
       "      <td>{'lon': 149.1281, 'lat': -35.2835}</td>\n",
       "      <td>[{'id': 804, 'main': 'Clouds', 'description': ...</td>\n",
       "      <td>stations</td>\n",
       "      <td>{'temp': 6.99, 'feels_like': 5.63, 'temp_min':...</td>\n",
       "      <td>10000</td>\n",
       "      <td>{'speed': 2.06, 'deg': 150}</td>\n",
       "      <td>{'all': 100}</td>\n",
       "      <td>1658405994</td>\n",
       "      <td>{'type': 2, 'id': 2004200, 'country': 'AU', 's...</td>\n",
       "      <td>36000</td>\n",
       "      <td>2172517</td>\n",
       "      <td>Canberra</td>\n",
       "      <td>200</td>\n",
       "      <td>NaN</td>\n",
       "    </tr>\n",
       "    <tr>\n",
       "      <th>1</th>\n",
       "      <td>{'lon': 151.2073, 'lat': -33.8679}</td>\n",
       "      <td>[{'id': 803, 'main': 'Clouds', 'description': ...</td>\n",
       "      <td>stations</td>\n",
       "      <td>{'temp': 13.87, 'feels_like': 13.35, 'temp_min...</td>\n",
       "      <td>10000</td>\n",
       "      <td>{'speed': 7.72, 'deg': 100, 'gust': 13.89}</td>\n",
       "      <td>{'all': 75}</td>\n",
       "      <td>1658405508</td>\n",
       "      <td>{'type': 2, 'id': 2002865, 'country': 'AU', 's...</td>\n",
       "      <td>36000</td>\n",
       "      <td>2147714</td>\n",
       "      <td>Sydney</td>\n",
       "      <td>200</td>\n",
       "      <td>NaN</td>\n",
       "    </tr>\n",
       "    <tr>\n",
       "      <th>2</th>\n",
       "      <td>{'lon': 130.8418, 'lat': -12.4611}</td>\n",
       "      <td>[{'id': 800, 'main': 'Clear', 'description': '...</td>\n",
       "      <td>stations</td>\n",
       "      <td>{'temp': 22.99, 'feels_like': 23.25, 'temp_min...</td>\n",
       "      <td>10000</td>\n",
       "      <td>{'speed': 2.06, 'deg': 200}</td>\n",
       "      <td>{'all': 0}</td>\n",
       "      <td>1658406153</td>\n",
       "      <td>{'type': 1, 'id': 9574, 'country': 'AU', 'sunr...</td>\n",
       "      <td>34200</td>\n",
       "      <td>2073124</td>\n",
       "      <td>Darwin</td>\n",
       "      <td>200</td>\n",
       "      <td>NaN</td>\n",
       "    </tr>\n",
       "    <tr>\n",
       "      <th>3</th>\n",
       "      <td>{'lon': 153.0281, 'lat': -27.4679}</td>\n",
       "      <td>[{'id': 501, 'main': 'Rain', 'description': 'm...</td>\n",
       "      <td>stations</td>\n",
       "      <td>{'temp': 15.15, 'feels_like': 15.18, 'temp_min...</td>\n",
       "      <td>10000</td>\n",
       "      <td>{'speed': 4.12, 'deg': 130}</td>\n",
       "      <td>{'all': 75}</td>\n",
       "      <td>1658405884</td>\n",
       "      <td>{'type': 2, 'id': 2005393, 'country': 'AU', 's...</td>\n",
       "      <td>36000</td>\n",
       "      <td>2174003</td>\n",
       "      <td>Brisbane</td>\n",
       "      <td>200</td>\n",
       "      <td>{'1h': 3.62}</td>\n",
       "    </tr>\n",
       "    <tr>\n",
       "      <th>4</th>\n",
       "      <td>{'lon': 138.6, 'lat': -34.9333}</td>\n",
       "      <td>[{'id': 801, 'main': 'Clouds', 'description': ...</td>\n",
       "      <td>stations</td>\n",
       "      <td>{'temp': 13.94, 'feels_like': 13.19, 'temp_min...</td>\n",
       "      <td>10000</td>\n",
       "      <td>{'speed': 4.63, 'deg': 40}</td>\n",
       "      <td>{'all': 20}</td>\n",
       "      <td>1658406036</td>\n",
       "      <td>{'type': 2, 'id': 2001763, 'country': 'AU', 's...</td>\n",
       "      <td>34200</td>\n",
       "      <td>2078025</td>\n",
       "      <td>Adelaide</td>\n",
       "      <td>200</td>\n",
       "      <td>NaN</td>\n",
       "    </tr>\n",
       "  </tbody>\n",
       "</table>\n",
       "</div>"
      ],
      "text/plain": [
       "                                coord  \\\n",
       "0  {'lon': 149.1281, 'lat': -35.2835}   \n",
       "1  {'lon': 151.2073, 'lat': -33.8679}   \n",
       "2  {'lon': 130.8418, 'lat': -12.4611}   \n",
       "3  {'lon': 153.0281, 'lat': -27.4679}   \n",
       "4     {'lon': 138.6, 'lat': -34.9333}   \n",
       "\n",
       "                                             weather      base  \\\n",
       "0  [{'id': 804, 'main': 'Clouds', 'description': ...  stations   \n",
       "1  [{'id': 803, 'main': 'Clouds', 'description': ...  stations   \n",
       "2  [{'id': 800, 'main': 'Clear', 'description': '...  stations   \n",
       "3  [{'id': 501, 'main': 'Rain', 'description': 'm...  stations   \n",
       "4  [{'id': 801, 'main': 'Clouds', 'description': ...  stations   \n",
       "\n",
       "                                                main  visibility  \\\n",
       "0  {'temp': 6.99, 'feels_like': 5.63, 'temp_min':...       10000   \n",
       "1  {'temp': 13.87, 'feels_like': 13.35, 'temp_min...       10000   \n",
       "2  {'temp': 22.99, 'feels_like': 23.25, 'temp_min...       10000   \n",
       "3  {'temp': 15.15, 'feels_like': 15.18, 'temp_min...       10000   \n",
       "4  {'temp': 13.94, 'feels_like': 13.19, 'temp_min...       10000   \n",
       "\n",
       "                                         wind        clouds          dt  \\\n",
       "0                 {'speed': 2.06, 'deg': 150}  {'all': 100}  1658405994   \n",
       "1  {'speed': 7.72, 'deg': 100, 'gust': 13.89}   {'all': 75}  1658405508   \n",
       "2                 {'speed': 2.06, 'deg': 200}    {'all': 0}  1658406153   \n",
       "3                 {'speed': 4.12, 'deg': 130}   {'all': 75}  1658405884   \n",
       "4                  {'speed': 4.63, 'deg': 40}   {'all': 20}  1658406036   \n",
       "\n",
       "                                                 sys  timezone       id  \\\n",
       "0  {'type': 2, 'id': 2004200, 'country': 'AU', 's...     36000  2172517   \n",
       "1  {'type': 2, 'id': 2002865, 'country': 'AU', 's...     36000  2147714   \n",
       "2  {'type': 1, 'id': 9574, 'country': 'AU', 'sunr...     34200  2073124   \n",
       "3  {'type': 2, 'id': 2005393, 'country': 'AU', 's...     36000  2174003   \n",
       "4  {'type': 2, 'id': 2001763, 'country': 'AU', 's...     34200  2078025   \n",
       "\n",
       "       name  cod          rain  \n",
       "0  Canberra  200           NaN  \n",
       "1    Sydney  200           NaN  \n",
       "2    Darwin  200           NaN  \n",
       "3  Brisbane  200  {'1h': 3.62}  \n",
       "4  Adelaide  200           NaN  "
      ]
     },
     "execution_count": 69,
     "metadata": {},
     "output_type": "execute_result"
    }
   ],
   "source": [
    "# read data into a dataframe to create a consistent schema \n",
    "df = pd.json_normalize(weather_data, max_level=0)\n",
    "df.head()"
   ]
  },
  {
   "cell_type": "markdown",
   "metadata": {},
   "source": [
    "Load data"
   ]
  },
  {
   "cell_type": "code",
   "execution_count": 70,
   "metadata": {},
   "outputs": [],
   "source": [
    "from sqlalchemy import create_engine, Table, Column, Integer, String, MetaData, Float, JSON # https://www.tutorialspoint.com/sqlalchemy/sqlalchemy_core_creating_table.htm\n",
    "from sqlalchemy.engine import URL\n",
    "from sqlalchemy.dialects import postgresql\n",
    "from secrets_config import db_user, db_password, db_server_name, db_database_name"
   ]
  },
  {
   "cell_type": "code",
   "execution_count": 71,
   "metadata": {},
   "outputs": [],
   "source": [
    "# create connection to database \n",
    "connection_url = URL.create(\n",
    "    drivername = \"postgresql+pg8000\", \n",
    "    username = db_user,\n",
    "    password = db_password,\n",
    "    host = db_server_name, \n",
    "    port = 5432,\n",
    "    database = db_database_name, \n",
    ")\n",
    "\n",
    "engine = create_engine(connection_url)"
   ]
  },
  {
   "cell_type": "code",
   "execution_count": 72,
   "metadata": {},
   "outputs": [],
   "source": [
    "# specify target table schema \n",
    "meta = MetaData()\n",
    "weather_table = Table(\n",
    "    \"raw_weather\", meta, \n",
    "    Column(\"dt\", Integer, primary_key=True),\n",
    "    Column(\"id\", Integer, primary_key=True),\n",
    "    Column(\"coord\", JSON),\n",
    "    Column(\"weather\", JSON),\n",
    "    Column(\"base\", String),\n",
    "    Column(\"main\", JSON),\n",
    "    Column(\"visibility\", Integer),\n",
    "    Column(\"rain\", String),\n",
    "    Column(\"wind\", JSON),\n",
    "    Column(\"clouds\", JSON),\n",
    "    Column(\"sys\", JSON),\n",
    "    Column(\"timezone\", Integer),\n",
    "    Column(\"name\", String),\n",
    "    Column(\"cod\", Integer)\n",
    ")\n",
    "meta.create_all(engine) # creates table if it does not exist "
   ]
  },
  {
   "cell_type": "code",
   "execution_count": 73,
   "metadata": {},
   "outputs": [
    {
     "data": {
      "text/plain": [
       "<sqlalchemy.engine.cursor.LegacyCursorResult at 0x7fd641e2ae20>"
      ]
     },
     "execution_count": 73,
     "metadata": {},
     "output_type": "execute_result"
    }
   ],
   "source": [
    "insert_statement = postgresql.insert(weather_table).values(df.to_dict(orient='records'))\n",
    "upsert_statement = insert_statement.on_conflict_do_update(\n",
    "    index_elements=['id', 'dt'],\n",
    "    set_={c.key: c for c in insert_statement.excluded if c.key not in ['id', 'dt']})\n",
    "engine.execute(upsert_statement)"
   ]
  },
  {
   "cell_type": "markdown",
   "metadata": {},
   "source": [
    "Transform data (SQL)"
   ]
  },
  {
   "cell_type": "code",
   "execution_count": 74,
   "metadata": {},
   "outputs": [
    {
     "data": {
      "text/plain": [
       "<sqlalchemy.engine.cursor.LegacyCursorResult at 0x7fd629d9fbe0>"
      ]
     },
     "execution_count": 74,
     "metadata": {},
     "output_type": "execute_result"
    }
   ],
   "source": [
    "# json functions: https://www.postgresql.org/docs/9.4/functions-json.html \n",
    "staging_table = \"stg_weather\"\n",
    "\n",
    "engine.execute(f\"drop table if exists {staging_table}\")\n",
    "\n",
    "engine.execute(f\"\"\"\n",
    "    create table {staging_table} as (\n",
    "        select \n",
    "            to_timestamp(dt) as datetime, \n",
    "            id, \n",
    "            name, \n",
    "            cast(coord ->> 'lon' as numeric) as lon,\n",
    "            cast(coord ->> 'lat' as numeric) as lat,\n",
    "            weather -> 0 ->> 'main' as weather_main,\n",
    "            weather -> 0 ->> 'description' as weather_description,\n",
    "            base, \n",
    "            cast(main ->> 'temp' as numeric) as temperature,\n",
    "            cast(main ->> 'pressure' as numeric) as pressure,\n",
    "            cast(main ->> 'humidity' as numeric) as humidity,\n",
    "            cast(clouds ->> 'all' as numeric) as clouds\n",
    "        from public.raw_weather\n",
    "    )\n",
    "\"\"\")"
   ]
  },
  {
   "cell_type": "code",
   "execution_count": null,
   "metadata": {},
   "outputs": [],
   "source": []
  }
 ],
 "metadata": {
  "interpreter": {
   "hash": "ec7476cd5298a73f69e8eecc398cdeac6e308767034e2d84faebe029453106ad"
  },
  "kernelspec": {
   "display_name": "Python 3.9.12 ('dec')",
   "language": "python",
   "name": "python3"
  },
  "language_info": {
   "codemirror_mode": {
    "name": "ipython",
    "version": 3
   },
   "file_extension": ".py",
   "mimetype": "text/x-python",
   "name": "python",
   "nbconvert_exporter": "python",
   "pygments_lexer": "ipython3",
   "version": "3.9.12"
  },
  "orig_nbformat": 4
 },
 "nbformat": 4,
 "nbformat_minor": 2
}
